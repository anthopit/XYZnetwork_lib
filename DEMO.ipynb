{
 "cells": [
  {
   "cell_type": "code",
   "execution_count": 1,
   "metadata": {
    "ExecuteTime": {
     "start_time": "2023-04-25T15:27:31.989627Z",
     "end_time": "2023-04-25T15:27:34.823119Z"
    }
   },
   "outputs": [],
   "source": [
    "import preprocessing.Preprocessing as pp\n",
    "import classes.transportnetwork as tn\n",
    "from visualisation.visualisation import *\n",
    "from characterisation.degree import *\n",
    "from characterisation.centrality import *\n",
    "from characterisation.distance import *\n",
    "from robustness_analysis.robustness import *\n",
    "from ML.embedding import *\n",
    "from clustering.cluster import *\n",
    "from GNN.data import *\n",
    "from GNN.model import *\n",
    "from GNN.run import *"
   ]
  },
  {
   "cell_type": "markdown",
   "metadata": {},
   "source": [
    "### Create the network from a GTFS file"
   ]
  },
  {
   "cell_type": "code",
   "execution_count": 2,
   "metadata": {
    "ExecuteTime": {
     "start_time": "2023-04-25T15:27:34.826517Z",
     "end_time": "2023-04-25T15:28:05.491349Z"
    }
   },
   "outputs": [
    {
     "name": "stdout",
     "output_type": "stream",
     "text": [
      "Network creation: \n"
     ]
    },
    {
     "name": "stderr",
     "output_type": "stream",
     "text": [
      "100%|██████████| 144634/144634 [00:30<00:00, 4765.46it/s]\n"
     ]
    }
   ],
   "source": [
    "G = pp.create_network_from_GTFS('data/gtfs_3')"
   ]
  },
  {
   "cell_type": "markdown",
   "metadata": {},
   "source": [
    "### Create the transport network object"
   ]
  },
  {
   "cell_type": "code",
   "execution_count": 3,
   "metadata": {
    "ExecuteTime": {
     "start_time": "2023-04-25T15:28:05.533701Z",
     "end_time": "2023-04-25T15:28:37.622105Z"
    }
   },
   "outputs": [],
   "source": [
    "TN = tn.TransportNetwork(G, pos_argument=[\"lon\", \"lat\"], time_arguments=[\"departure_time\", \"arrival_time\"])"
   ]
  },
  {
   "cell_type": "code",
   "execution_count": 4,
   "metadata": {
    "ExecuteTime": {
     "start_time": "2023-04-25T15:28:37.665672Z",
     "end_time": "2023-04-25T15:28:37.806117Z"
    }
   },
   "outputs": [
    {
     "name": "stdout",
     "output_type": "stream",
     "text": [
      "Graph type: <class 'networkx.classes.graph.Graph'>\n",
      "- Number of nodes: 613\n",
      " |--- lon\n",
      " |--- lat\n",
      "- Number of edges: 776\n",
      " |--- distance\n",
      " |--- route_id\n",
      " |--- trip_id\n",
      " |--- arrival_time\n",
      " |--- departure_time\n",
      " |--- euclidian_distance\n",
      "Graph type: <class 'networkx.classes.digraph.DiGraph'>\n",
      "- Number of nodes: 613\n",
      " |--- lon\n",
      " |--- lat\n",
      "- Number of edges: 1333\n",
      " |--- distance\n",
      " |--- route_id\n",
      " |--- trip_id\n",
      " |--- arrival_time\n",
      " |--- departure_time\n",
      " |--- euclidian_distance\n",
      "Graph type: <class 'networkx.classes.multigraph.MultiGraph'>\n",
      "- Number of nodes: 613\n",
      " |--- lon\n",
      " |--- lat\n",
      "- Number of edges: 81868\n",
      " |--- distance\n",
      " |--- route_id\n",
      " |--- trip_id\n",
      " |--- arrival_time\n",
      " |--- departure_time\n",
      " |--- euclidian_distance\n",
      "Graph type: <class 'networkx.classes.multidigraph.MultiDiGraph'>\n",
      "- Number of nodes: 613\n",
      " |--- lon\n",
      " |--- lat\n",
      "- Number of edges: 140098\n",
      " |--- distance\n",
      " |--- route_id\n",
      " |--- trip_id\n",
      " |--- arrival_time\n",
      " |--- departure_time\n",
      " |--- euclidian_distance\n",
      "\n"
     ]
    }
   ],
   "source": [
    "print(TN)"
   ]
  },
  {
   "cell_type": "markdown",
   "metadata": {},
   "source": [
    "### Visualize the network"
   ]
  },
  {
   "cell_type": "code",
   "execution_count": null,
   "metadata": {
    "ExecuteTime": {
     "end_time": "2023-04-25T13:00:26.553380Z",
     "start_time": "2023-04-25T13:00:26.099119Z"
    }
   },
   "outputs": [],
   "source": [
    "map_network(TN)"
   ]
  },
  {
   "cell_type": "code",
   "execution_count": null,
   "metadata": {
    "ExecuteTime": {
     "end_time": "2023-04-25T13:00:34.230078Z",
     "start_time": "2023-04-25T13:00:26.555454Z"
    }
   },
   "outputs": [],
   "source": [
    "map_dynamic_network(TN, step=100)"
   ]
  },
  {
   "cell_type": "markdown",
   "metadata": {},
   "source": [
    "### Characteristics of the network"
   ]
  },
  {
   "cell_type": "markdown",
   "metadata": {},
   "source": [
    "#### Degree analysis"
   ]
  },
  {
   "cell_type": "code",
   "execution_count": null,
   "metadata": {
    "ExecuteTime": {
     "end_time": "2023-04-25T13:00:34.230297Z",
     "start_time": "2023-04-25T13:00:34.229907Z"
    }
   },
   "outputs": [],
   "source": [
    "degree_analysis = compute_node_degree_analysis(TN, data=False)\n",
    "degree_analysis"
   ]
  },
  {
   "cell_type": "code",
   "execution_count": null,
   "metadata": {
    "ExecuteTime": {
     "end_time": "2023-04-25T13:00:34.230547Z",
     "start_time": "2023-04-25T13:00:34.230075Z"
    }
   },
   "outputs": [],
   "source": [
    "degree_analysis = compute_node_degree_analysis(TN, data=True)\n",
    "degree_analysis"
   ]
  },
  {
   "cell_type": "code",
   "execution_count": null,
   "metadata": {
    "ExecuteTime": {
     "end_time": "2023-04-25T13:00:34.333955Z",
     "start_time": "2023-04-25T13:00:34.230342Z"
    }
   },
   "outputs": [],
   "source": [
    "plot_distribution_degree_analysis(TN)"
   ]
  },
  {
   "cell_type": "markdown",
   "metadata": {},
   "source": [
    "#### Centrality analysis"
   ]
  },
  {
   "cell_type": "code",
   "execution_count": null,
   "metadata": {
    "ExecuteTime": {
     "end_time": "2023-04-25T13:00:38.097996Z",
     "start_time": "2023-04-25T13:00:34.336853Z"
    }
   },
   "outputs": [],
   "source": [
    "plot_centrality_analysis(TN)"
   ]
  },
  {
   "cell_type": "code",
   "execution_count": null,
   "metadata": {
    "ExecuteTime": {
     "end_time": "2023-04-25T13:00:41.579998Z",
     "start_time": "2023-04-25T13:00:38.097735Z"
    }
   },
   "outputs": [],
   "source": [
    "map_centrality_analysis(TN)"
   ]
  },
  {
   "cell_type": "markdown",
   "metadata": {},
   "source": [
    "### Robustness analysis"
   ]
  },
  {
   "cell_type": "code",
   "execution_count": null,
   "metadata": {
    "ExecuteTime": {
     "end_time": "2023-04-25T13:01:48.644986Z",
     "start_time": "2023-04-25T13:00:41.568518Z"
    }
   },
   "outputs": [],
   "source": [
    "plot_robustness_analysis(TN, precision=0.01)"
   ]
  },
  {
   "cell_type": "code",
   "execution_count": null,
   "metadata": {
    "ExecuteTime": {
     "end_time": "2023-04-25T13:01:49.223321Z",
     "start_time": "2023-04-25T13:01:48.644755Z"
    }
   },
   "outputs": [],
   "source": [
    "map_robustness_analysis(TN)"
   ]
  },
  {
   "cell_type": "markdown",
   "metadata": {},
   "source": [
    "### Machine learning pipeline to cluster the network"
   ]
  },
  {
   "cell_type": "code",
   "execution_count": null,
   "metadata": {
    "ExecuteTime": {
     "end_time": "2023-04-25T13:02:35.063916Z",
     "start_time": "2023-04-25T13:01:49.222989Z"
    }
   },
   "outputs": [],
   "source": [
    "gw = GraphWave()\n",
    "\n",
    "emb_df = gw.get_embedding_df(TN.get_higher_complexity())\n",
    "\n",
    "clusters_dct = get_clusters(gw.get_embedding_df(TN.get_higher_complexity()), type='kmeans', embedding=emb_df, k=4)\n",
    "\n",
    "plot_clusters_embedding(emb_df, clusters_dct)\n",
    "map_clusters(TN, clusters_dct)"
   ]
  },
  {
   "cell_type": "markdown",
   "metadata": {},
   "source": [
    "### GNN pipeline to cluster the network"
   ]
  },
  {
   "cell_type": "code",
   "execution_count": null,
   "metadata": {
    "ExecuteTime": {
     "end_time": "2023-04-25T13:02:35.111069Z",
     "start_time": "2023-04-25T13:02:35.101775Z"
    }
   },
   "outputs": [],
   "source": [
    "args = {\n",
    "    \"node_features\" : [\"one_hot\"], # choices are [\"degree_one_hot\", \"one_hot\", \"constant\", \"pagerank\", \"degree\", \"betweenness\", \"closeness\", \"eigenvector\", \"clustering\", \"position\", \"distance\"]\n",
    "    \"node_attrs\" : None,\n",
    "    \"edge_attrs\" : [\"dep_time\"], # choices are [\"distance\", \"dep_time\", \"arr_time\"]\n",
    "    \"train_ratio\" : 0.8,\n",
    "    \"val_ratio\" : 0.1,\n",
    "\n",
    "    \"device\" : torch.device(\"cuda\" if torch.cuda.is_available() else \"cpu\"),\n",
    "    \"model\" : \"gat\", # choices are [\"gcn\", \"gin\", \"gat\", \"sage\"]\n",
    "    \"layers\" : 2,\n",
    "    \"hidden_channels\" : 128,\n",
    "    \"dim_embedding\" : 64,\n",
    "    \"save\" : \"ssl_model.pth\",\n",
    "\n",
    "    \"lr\" : 0.001,\n",
    "    \"epochs\" : 200,\n",
    "    \"num_workers\" : 4,\n",
    "\n",
    "    \"loss\" : \"infonce\",\n",
    "    \"augment_list\" : [\"edge_perturbation\", \"node_dropping\"],\n",
    "}\n",
    "\n",
    "args = AttributeDict(args)"
   ]
  },
  {
   "cell_type": "markdown",
   "metadata": {},
   "source": [
    "#### Create the dataset"
   ]
  },
  {
   "cell_type": "code",
   "execution_count": null,
   "metadata": {
    "ExecuteTime": {
     "end_time": "2023-04-25T13:02:35.111400Z",
     "start_time": "2023-04-25T13:02:35.101962Z"
    }
   },
   "outputs": [],
   "source": [
    "args = {\n",
    "    \"node_features\" : [\"position\"], # choices are [\"degree_one_hot\", \"one_hot\", \"constant\", \"pagerank\", \"degree\", \"betweenness\", \"closeness\", \"eigenvector\", \"clustering\", \"position\", \"distance\"]\n",
    "    \"edge_attrs\" : [\"departure_time\"], # choices are [\"distance\", \"dep_time\", \"arr_time\"]\n",
    "    \"train_ratio\" : 0.8,\n",
    "    \"val_ratio\" : 0.2,\n",
    "\n",
    "    \"layers\" : 2,\n",
    "    \"model\": \"gat\",  # choices are [\"gcn\", \"gin\", \"gat\", \"sage\"]\n",
    "\n",
    "    \"lr\" : 0.001,\n",
    "    \"epochs\" : 200,\n",
    "\n",
    "    \"loss\" : \"infonce\",\n",
    "    \"augment_list\" : [\"edge_perturbation\", \"node_dropping\"],\n",
    "}\n",
    "\n",
    "\n",
    "\n",
    "args = GNNConfig(args)"
   ]
  },
  {
   "cell_type": "code",
   "execution_count": null,
   "metadata": {
    "ExecuteTime": {
     "end_time": "2023-04-25T13:02:51.935242Z",
     "start_time": "2023-04-25T13:02:35.102077Z"
    }
   },
   "outputs": [],
   "source": [
    "#Create data\n",
    "data = create_data_from_transport_network(TN.graph, TN, args)\n",
    "\n",
    "ssl_model = SSL_GNN(data.num_node_features, args).to(args.device)\n",
    "\n",
    "\n",
    "# Move data to device\n",
    "data = data.to(args.device)\n",
    "\n",
    "# Create the optimizer\n",
    "optimizer = torch.optim.Adam(ssl_model.parameters(), lr=args.lr)\n",
    "\n",
    "# Train model\n",
    "train_self_supervised(data, ssl_model, optimizer, args)"
   ]
  },
  {
   "cell_type": "code",
   "execution_count": null,
   "metadata": {},
   "outputs": [],
   "source": [
    "emb = get_graph_embedding(data, ssl_model)\n",
    "\n",
    "comm_dct = get_clusters(emb, type='kmeans', embedding=emb, k=22)\n",
    "\n",
    "plot_tsne_embedding(emb, node_cluster=comm_dct)\n",
    "map_weighted_network(TN, custom_node_weigth=comm_dct, edge_weigth=False, scale=2, node_size=5, discrete_color=True)"
   ]
  },
  {
   "cell_type": "code",
   "execution_count": null,
   "metadata": {},
   "outputs": [],
   "source": []
  }
 ],
 "metadata": {
  "kernelspec": {
   "display_name": "Python 3 (ipykernel)",
   "language": "python",
   "name": "python3"
  },
  "language_info": {
   "codemirror_mode": {
    "name": "ipython",
    "version": 3
   },
   "file_extension": ".py",
   "mimetype": "text/x-python",
   "name": "python",
   "nbconvert_exporter": "python",
   "pygments_lexer": "ipython3",
   "version": "3.10.6"
  }
 },
 "nbformat": 4,
 "nbformat_minor": 1
}
