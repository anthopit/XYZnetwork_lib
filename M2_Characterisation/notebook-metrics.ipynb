{
 "cells": [
  {
   "cell_type": "markdown",
   "metadata": {},
   "source": [
    "# Topological:\n",
    "## Metrics:\n",
    "### Nodes:"
   ]
  },
  {
   "cell_type": "code",
   "execution_count": 1,
   "metadata": {},
   "outputs": [],
   "source": [
    "import networkx as nx\n",
    "from M0_Preprcessing import Preprocessing as pp"
   ]
  },
  {
   "cell_type": "code",
   "execution_count": 2,
   "metadata": {},
   "outputs": [],
   "source": [
    "G = pp.create_network_from_edges(\"../data/road-euroroad.edges\")"
   ]
  },
  {
   "cell_type": "code",
   "execution_count": 3,
   "metadata": {},
   "outputs": [
    {
     "data": {
      "text/plain": "1174"
     },
     "execution_count": 3,
     "metadata": {},
     "output_type": "execute_result"
    }
   ],
   "source": [
    "G.number_of_nodes()"
   ]
  },
  {
   "cell_type": "markdown",
   "metadata": {},
   "source": [
    "### Edges:"
   ]
  },
  {
   "cell_type": "code",
   "execution_count": 4,
   "metadata": {},
   "outputs": [],
   "source": [
    "import networkx as nx\n",
    "from pyvis.network import Network\n",
    "\n",
    "# Read data from file\n",
    "with open(\"../data/road-euroroad.edges\", \"r\") as f:\n",
    "    lines = f.readlines()\n",
    "\n",
    "# Create a graph\n",
    "G = nx.Graph()\n",
    "\n",
    "# Add nodes and edges to the graph\n",
    "for line in lines:\n",
    "    if not line.startswith(\"%\"):\n",
    "        node1, node2 = map(int, line.split())\n",
    "        G.add_edge(node1, node2)"
   ]
  },
  {
   "cell_type": "markdown",
   "metadata": {},
   "source": [
    "### Diameter:"
   ]
  },
  {
   "cell_type": "code",
   "execution_count": 5,
   "metadata": {},
   "outputs": [
    {
     "name": "stdout",
     "output_type": "stream",
     "text": [
      "Diameter for component {384, 1, 2, 3, 4, 5, 388, 390, 389, 387, 391, 386, 15, 16, 17, 18, 19, 20, 21, 385, 821, 822, 823, 838, 839, 840, 841, 855, 861, 623, 624, 625, 626, 627, 370, 369, 371, 368, 383}: 16\n"
     ]
    },
    {
     "ename": "KeyboardInterrupt",
     "evalue": "",
     "output_type": "error",
     "traceback": [
      "\u001B[1;31m---------------------------------------------------------------------------\u001B[0m",
      "\u001B[1;31mKeyboardInterrupt\u001B[0m                         Traceback (most recent call last)",
      "Cell \u001B[1;32mIn[5], line 21\u001B[0m\n\u001B[0;32m     19\u001B[0m subgraph \u001B[38;5;241m=\u001B[39m G\u001B[38;5;241m.\u001B[39msubgraph(component)\n\u001B[0;32m     20\u001B[0m \u001B[38;5;28;01mtry\u001B[39;00m:\n\u001B[1;32m---> 21\u001B[0m     diameter \u001B[38;5;241m=\u001B[39m \u001B[43mnx\u001B[49m\u001B[38;5;241;43m.\u001B[39;49m\u001B[43mdiameter\u001B[49m\u001B[43m(\u001B[49m\u001B[43msubgraph\u001B[49m\u001B[43m)\u001B[49m\n\u001B[0;32m     22\u001B[0m     \u001B[38;5;28mprint\u001B[39m(\u001B[38;5;124mf\u001B[39m\u001B[38;5;124m\"\u001B[39m\u001B[38;5;124mDiameter for component \u001B[39m\u001B[38;5;132;01m{\u001B[39;00mcomponent\u001B[38;5;132;01m}\u001B[39;00m\u001B[38;5;124m: \u001B[39m\u001B[38;5;132;01m{\u001B[39;00mdiameter\u001B[38;5;132;01m}\u001B[39;00m\u001B[38;5;124m\"\u001B[39m)\n\u001B[0;32m     23\u001B[0m \u001B[38;5;28;01mexcept\u001B[39;00m nx\u001B[38;5;241m.\u001B[39mexception\u001B[38;5;241m.\u001B[39mNetworkXError:\n",
      "File \u001B[1;32m~\\AppData\\Local\\Programs\\Python\\Python310\\lib\\site-packages\\networkx\\algorithms\\distance_measures.py:377\u001B[0m, in \u001B[0;36mdiameter\u001B[1;34m(G, e, usebounds, weight)\u001B[0m\n\u001B[0;32m    375\u001B[0m     \u001B[38;5;28;01mreturn\u001B[39;00m _extrema_bounding(G, compute\u001B[38;5;241m=\u001B[39m\u001B[38;5;124m\"\u001B[39m\u001B[38;5;124mdiameter\u001B[39m\u001B[38;5;124m\"\u001B[39m, weight\u001B[38;5;241m=\u001B[39mweight)\n\u001B[0;32m    376\u001B[0m \u001B[38;5;28;01mif\u001B[39;00m e \u001B[38;5;129;01mis\u001B[39;00m \u001B[38;5;28;01mNone\u001B[39;00m:\n\u001B[1;32m--> 377\u001B[0m     e \u001B[38;5;241m=\u001B[39m \u001B[43meccentricity\u001B[49m\u001B[43m(\u001B[49m\u001B[43mG\u001B[49m\u001B[43m,\u001B[49m\u001B[43m \u001B[49m\u001B[43mweight\u001B[49m\u001B[38;5;241;43m=\u001B[39;49m\u001B[43mweight\u001B[49m\u001B[43m)\u001B[49m\n\u001B[0;32m    378\u001B[0m \u001B[38;5;28;01mreturn\u001B[39;00m \u001B[38;5;28mmax\u001B[39m(e\u001B[38;5;241m.\u001B[39mvalues())\n",
      "File \u001B[1;32m~\\AppData\\Local\\Programs\\Python\\Python310\\lib\\site-packages\\networkx\\algorithms\\distance_measures.py:300\u001B[0m, in \u001B[0;36meccentricity\u001B[1;34m(G, v, sp, weight)\u001B[0m\n\u001B[0;32m    298\u001B[0m \u001B[38;5;28;01mfor\u001B[39;00m n \u001B[38;5;129;01min\u001B[39;00m G\u001B[38;5;241m.\u001B[39mnbunch_iter(v):\n\u001B[0;32m    299\u001B[0m     \u001B[38;5;28;01mif\u001B[39;00m sp \u001B[38;5;129;01mis\u001B[39;00m \u001B[38;5;28;01mNone\u001B[39;00m:\n\u001B[1;32m--> 300\u001B[0m         length \u001B[38;5;241m=\u001B[39m \u001B[43mnx\u001B[49m\u001B[38;5;241;43m.\u001B[39;49m\u001B[43mshortest_path_length\u001B[49m\u001B[43m(\u001B[49m\u001B[43mG\u001B[49m\u001B[43m,\u001B[49m\u001B[43m \u001B[49m\u001B[43msource\u001B[49m\u001B[38;5;241;43m=\u001B[39;49m\u001B[43mn\u001B[49m\u001B[43m,\u001B[49m\u001B[43m \u001B[49m\u001B[43mweight\u001B[49m\u001B[38;5;241;43m=\u001B[39;49m\u001B[43mweight\u001B[49m\u001B[43m)\u001B[49m\n\u001B[0;32m    302\u001B[0m         L \u001B[38;5;241m=\u001B[39m \u001B[38;5;28mlen\u001B[39m(length)\n\u001B[0;32m    303\u001B[0m     \u001B[38;5;28;01melse\u001B[39;00m:\n",
      "File \u001B[1;32m~\\AppData\\Local\\Programs\\Python\\Python310\\lib\\site-packages\\networkx\\classes\\backends.py:145\u001B[0m, in \u001B[0;36m_dispatch.<locals>.wrapper\u001B[1;34m(*args, **kwds)\u001B[0m\n\u001B[0;32m    141\u001B[0m         \u001B[38;5;28;01melse\u001B[39;00m:\n\u001B[0;32m    142\u001B[0m             \u001B[38;5;28;01mraise\u001B[39;00m NetworkXNotImplemented(\n\u001B[0;32m    143\u001B[0m                 \u001B[38;5;124mf\u001B[39m\u001B[38;5;124m\"\u001B[39m\u001B[38;5;124m'\u001B[39m\u001B[38;5;132;01m{\u001B[39;00mname\u001B[38;5;132;01m}\u001B[39;00m\u001B[38;5;124m'\u001B[39m\u001B[38;5;124m not implemented by \u001B[39m\u001B[38;5;132;01m{\u001B[39;00mplugin_name\u001B[38;5;132;01m}\u001B[39;00m\u001B[38;5;124m\"\u001B[39m\n\u001B[0;32m    144\u001B[0m             )\n\u001B[1;32m--> 145\u001B[0m \u001B[38;5;28;01mreturn\u001B[39;00m func(\u001B[38;5;241m*\u001B[39margs, \u001B[38;5;241m*\u001B[39m\u001B[38;5;241m*\u001B[39mkwds)\n",
      "File \u001B[1;32m~\\AppData\\Local\\Programs\\Python\\Python310\\lib\\site-packages\\networkx\\algorithms\\shortest_paths\\generic.py:300\u001B[0m, in \u001B[0;36mshortest_path_length\u001B[1;34m(G, source, target, weight, method)\u001B[0m\n\u001B[0;32m    297\u001B[0m \u001B[38;5;28;01mif\u001B[39;00m target \u001B[38;5;129;01mis\u001B[39;00m \u001B[38;5;28;01mNone\u001B[39;00m:\n\u001B[0;32m    298\u001B[0m     \u001B[38;5;66;03m# Find paths to all nodes accessible from the source.\u001B[39;00m\n\u001B[0;32m    299\u001B[0m     \u001B[38;5;28;01mif\u001B[39;00m method \u001B[38;5;241m==\u001B[39m \u001B[38;5;124m\"\u001B[39m\u001B[38;5;124munweighted\u001B[39m\u001B[38;5;124m\"\u001B[39m:\n\u001B[1;32m--> 300\u001B[0m         paths \u001B[38;5;241m=\u001B[39m \u001B[43mnx\u001B[49m\u001B[38;5;241;43m.\u001B[39;49m\u001B[43msingle_source_shortest_path_length\u001B[49m\u001B[43m(\u001B[49m\u001B[43mG\u001B[49m\u001B[43m,\u001B[49m\u001B[43m \u001B[49m\u001B[43msource\u001B[49m\u001B[43m)\u001B[49m\n\u001B[0;32m    301\u001B[0m     \u001B[38;5;28;01melif\u001B[39;00m method \u001B[38;5;241m==\u001B[39m \u001B[38;5;124m\"\u001B[39m\u001B[38;5;124mdijkstra\u001B[39m\u001B[38;5;124m\"\u001B[39m:\n\u001B[0;32m    302\u001B[0m         path_length \u001B[38;5;241m=\u001B[39m nx\u001B[38;5;241m.\u001B[39msingle_source_dijkstra_path_length\n",
      "File \u001B[1;32m~\\AppData\\Local\\Programs\\Python\\Python310\\lib\\site-packages\\networkx\\algorithms\\shortest_paths\\unweighted.py:59\u001B[0m, in \u001B[0;36msingle_source_shortest_path_length\u001B[1;34m(G, source, cutoff)\u001B[0m\n\u001B[0;32m     57\u001B[0m     cutoff \u001B[38;5;241m=\u001B[39m \u001B[38;5;28mfloat\u001B[39m(\u001B[38;5;124m\"\u001B[39m\u001B[38;5;124minf\u001B[39m\u001B[38;5;124m\"\u001B[39m)\n\u001B[0;32m     58\u001B[0m nextlevel \u001B[38;5;241m=\u001B[39m {source: \u001B[38;5;241m1\u001B[39m}\n\u001B[1;32m---> 59\u001B[0m \u001B[38;5;28;01mreturn\u001B[39;00m \u001B[38;5;28;43mdict\u001B[39;49m\u001B[43m(\u001B[49m\u001B[43m_single_shortest_path_length\u001B[49m\u001B[43m(\u001B[49m\u001B[43mG\u001B[49m\u001B[38;5;241;43m.\u001B[39;49m\u001B[43madj\u001B[49m\u001B[43m,\u001B[49m\u001B[43m \u001B[49m\u001B[43mnextlevel\u001B[49m\u001B[43m,\u001B[49m\u001B[43m \u001B[49m\u001B[43mcutoff\u001B[49m\u001B[43m)\u001B[49m\u001B[43m)\u001B[49m\n",
      "File \u001B[1;32m~\\AppData\\Local\\Programs\\Python\\Python310\\lib\\site-packages\\networkx\\algorithms\\shortest_paths\\unweighted.py:91\u001B[0m, in \u001B[0;36m_single_shortest_path_length\u001B[1;34m(adj, firstlevel, cutoff)\u001B[0m\n\u001B[0;32m     89\u001B[0m         \u001B[38;5;28;01mreturn\u001B[39;00m\n\u001B[0;32m     90\u001B[0m     \u001B[38;5;28;01mfor\u001B[39;00m v \u001B[38;5;129;01min\u001B[39;00m found:\n\u001B[1;32m---> 91\u001B[0m         nextlevel\u001B[38;5;241m.\u001B[39mupdate(\u001B[43madj\u001B[49m\u001B[43m[\u001B[49m\u001B[43mv\u001B[49m\u001B[43m]\u001B[49m)\n\u001B[0;32m     92\u001B[0m     level \u001B[38;5;241m+\u001B[39m\u001B[38;5;241m=\u001B[39m \u001B[38;5;241m1\u001B[39m\n\u001B[0;32m     93\u001B[0m \u001B[38;5;28;01mdel\u001B[39;00m seen\n",
      "File \u001B[1;32m~\\AppData\\Local\\Programs\\Python\\Python310\\lib\\site-packages\\networkx\\classes\\coreviews.py:81\u001B[0m, in \u001B[0;36mAdjacencyView.__getitem__\u001B[1;34m(self, name)\u001B[0m\n\u001B[0;32m     80\u001B[0m \u001B[38;5;28;01mdef\u001B[39;00m \u001B[38;5;21m__getitem__\u001B[39m(\u001B[38;5;28mself\u001B[39m, name):\n\u001B[1;32m---> 81\u001B[0m     \u001B[38;5;28;01mreturn\u001B[39;00m AtlasView(\u001B[38;5;28;43mself\u001B[39;49m\u001B[38;5;241;43m.\u001B[39;49m\u001B[43m_atlas\u001B[49m\u001B[43m[\u001B[49m\u001B[43mname\u001B[49m\u001B[43m]\u001B[49m)\n",
      "File \u001B[1;32m~\\AppData\\Local\\Programs\\Python\\Python310\\lib\\site-packages\\networkx\\classes\\coreviews.py:314\u001B[0m, in \u001B[0;36mFilterAdjacency.__getitem__\u001B[1;34m(self, node)\u001B[0m\n\u001B[0;32m    313\u001B[0m \u001B[38;5;28;01mdef\u001B[39;00m \u001B[38;5;21m__getitem__\u001B[39m(\u001B[38;5;28mself\u001B[39m, node):\n\u001B[1;32m--> 314\u001B[0m     \u001B[38;5;28;01mif\u001B[39;00m node \u001B[38;5;129;01min\u001B[39;00m \u001B[38;5;28mself\u001B[39m\u001B[38;5;241m.\u001B[39m_atlas \u001B[38;5;129;01mand\u001B[39;00m \u001B[38;5;28;43mself\u001B[39;49m\u001B[38;5;241;43m.\u001B[39;49m\u001B[43mNODE_OK\u001B[49m\u001B[43m(\u001B[49m\u001B[43mnode\u001B[49m\u001B[43m)\u001B[49m:\n\u001B[0;32m    316\u001B[0m         \u001B[38;5;28;01mdef\u001B[39;00m \u001B[38;5;21mnew_node_ok\u001B[39m(nbr):\n\u001B[0;32m    317\u001B[0m             \u001B[38;5;28;01mreturn\u001B[39;00m \u001B[38;5;28mself\u001B[39m\u001B[38;5;241m.\u001B[39mNODE_OK(nbr) \u001B[38;5;129;01mand\u001B[39;00m \u001B[38;5;28mself\u001B[39m\u001B[38;5;241m.\u001B[39mEDGE_OK(node, nbr)\n",
      "File \u001B[1;32m~\\AppData\\Local\\Programs\\Python\\Python310\\lib\\site-packages\\networkx\\classes\\filters.py:54\u001B[0m, in \u001B[0;36mshow_nodes.__call__\u001B[1;34m(self, node)\u001B[0m\n\u001B[0;32m     51\u001B[0m \u001B[38;5;28;01mdef\u001B[39;00m \u001B[38;5;21m__init__\u001B[39m(\u001B[38;5;28mself\u001B[39m, nodes):\n\u001B[0;32m     52\u001B[0m     \u001B[38;5;28mself\u001B[39m\u001B[38;5;241m.\u001B[39mnodes \u001B[38;5;241m=\u001B[39m \u001B[38;5;28mset\u001B[39m(nodes)\n\u001B[1;32m---> 54\u001B[0m \u001B[38;5;28;01mdef\u001B[39;00m \u001B[38;5;21m__call__\u001B[39m(\u001B[38;5;28mself\u001B[39m, node):\n\u001B[0;32m     55\u001B[0m     \u001B[38;5;28;01mreturn\u001B[39;00m node \u001B[38;5;129;01min\u001B[39;00m \u001B[38;5;28mself\u001B[39m\u001B[38;5;241m.\u001B[39mnodes\n",
      "\u001B[1;31mKeyboardInterrupt\u001B[0m: "
     ]
    }
   ],
   "source": [
    "import networkx as nx\n",
    "from pyvis.network import Network\n",
    "\n",
    "# Read data from file\n",
    "with open(\"../data/road-euroroad.edges\", \"r\") as f:\n",
    "    lines = f.readlines()\n",
    "\n",
    "# Create a graph\n",
    "G = nx.Graph()\n",
    "\n",
    "# Add nodes and edges to the graph\n",
    "for line in lines:\n",
    "    if not line.startswith(\"%\"):\n",
    "        node1, node2 = map(int, line.split())\n",
    "        G.add_edge(node1, node2)\n",
    "\n",
    "# Compute the diameter for each connected component\n",
    "for component in nx.connected_components(G):\n",
    "    subgraph = G.subgraph(component)\n",
    "    try:\n",
    "        diameter = nx.diameter(subgraph)\n",
    "        print(f\"Diameter for component {component}: {diameter}\")\n",
    "    except nx.exception.NetworkXError:\n",
    "        print(f\"Error: no path exists in component {component}\")\n",
    "\n",
    "# Print an error message for the not connected parts\n",
    "if not nx.is_connected(G):\n",
    "    print(\"Error: the graph is not connected, so no diameter exists.\")\n"
   ]
  },
  {
   "cell_type": "markdown",
   "metadata": {},
   "source": [
    "### Relation between nodes and edges:"
   ]
  },
  {
   "cell_type": "code",
   "execution_count": null,
   "metadata": {},
   "outputs": [],
   "source": [
    "import networkx as nx\n",
    "from pyvis.network import Network\n",
    "\n",
    "# Read data from file\n",
    "with open(\"../data/road-euroroad.edges\", \"r\") as f:\n",
    "    lines = f.readlines()\n",
    "\n",
    "# Create a graph\n",
    "G = nx.Graph()\n",
    "\n",
    "# Add nodes and edges to the graph\n",
    "for line in lines:\n",
    "    if not line.startswith(\"%\"):\n",
    "        node1, node2 = map(int, line.split())\n",
    "        G.add_edge(node1, node2)\n",
    "\n",
    "# Compute the relation between nodes and edges for each connected component\n",
    "for component in nx.connected_components(G):\n",
    "    subgraph = G.subgraph(component)\n",
    "    num_nodes = subgraph.number_of_nodes()\n",
    "    num_edges = subgraph.number_of_edges()\n",
    "    relation = num_edges / num_nodes\n",
    "    print(f\"Relation between nodes and edges for component {component}: {relation}\")\n",
    "\n"
   ]
  },
  {
   "cell_type": "markdown",
   "metadata": {},
   "source": [
    "### Length metrics:\n",
    "#### Average Path Length:"
   ]
  },
  {
   "cell_type": "code",
   "execution_count": null,
   "metadata": {},
   "outputs": [],
   "source": [
    "import networkx as nx\n",
    "from pyvis.network import Network\n",
    "\n",
    "# Read data from file\n",
    "with open(\"../data/road-euroroad.edges\", \"r\") as f:\n",
    "    lines = f.readlines()\n",
    "\n",
    "# Create a graph\n",
    "G = nx.Graph()\n",
    "\n",
    "# Add nodes and edges to the graph\n",
    "for line in lines:\n",
    "    if not line.startswith(\"%\"):\n",
    "        node1, node2 = map(int, line.split())\n",
    "        G.add_edge(node1, node2)\n",
    "\n",
    "# Compute the average path length for each connected component\n",
    "for component in nx.connected_components(G):\n",
    "    subgraph = G.subgraph(component)\n",
    "    avg_path_length = nx.average_shortest_path_length(subgraph)\n",
    "    print(f\"Average path length for component {component}: {avg_path_length}\")\n",
    "\n"
   ]
  },
  {
   "cell_type": "markdown",
   "metadata": {},
   "source": [
    "#### Longest path length:"
   ]
  },
  {
   "cell_type": "code",
   "execution_count": null,
   "metadata": {},
   "outputs": [],
   "source": [
    "import networkx as nx\n",
    "from pyvis.network import Network\n",
    "\n",
    "# Read data from file\n",
    "with open(\"../data/road-euroroad.edges\", \"r\") as f:\n",
    "    lines = f.readlines()\n",
    "\n",
    "# Create a graph\n",
    "G = nx.Graph()\n",
    "\n",
    "# Add nodes and edges to the graph\n",
    "for line in lines:\n",
    "    if not line.startswith(\"%\"):\n",
    "        node1, node2 = map(int, line.split())\n",
    "        G.add_edge(node1, node2)\n",
    "\n",
    "# Compute the longest path length for each connected component\n",
    "for component in nx.connected_components(G):\n",
    "    subgraph = G.subgraph(component)\n",
    "    longest_path = nx.diameter(subgraph)\n",
    "    print(f\"Longest path length for component {component}: {longest_path}\")\n"
   ]
  },
  {
   "cell_type": "markdown",
   "metadata": {},
   "source": [
    "#### Shortest Path Length:"
   ]
  },
  {
   "cell_type": "code",
   "execution_count": null,
   "metadata": {},
   "outputs": [],
   "source": [
    "import networkx as nx\n",
    "from pyvis.network import Network\n",
    "\n",
    "# Read data from file\n",
    "with open(\"../data/road-euroroad.edges\", \"r\") as f:\n",
    "    lines = f.readlines()\n",
    "\n",
    "# Create a graph\n",
    "G = nx.Graph()\n",
    "\n",
    "# Add nodes and edges to the graph\n",
    "for line in lines:\n",
    "    if not line.startswith(\"%\"):\n",
    "        node1, node2 = map(int, line.split())\n",
    "        G.add_edge(node1, node2)\n",
    "\n",
    "# Compute the shortest path length for each connected component\n",
    "for component in nx.connected_components(G):\n",
    "    subgraph = G.subgraph(component)\n",
    "    shortest_path = nx.average_shortest_path_length(subgraph)\n",
    "    print(f\"Shortest path length for component {component}: {shortest_path}\")\n"
   ]
  },
  {
   "cell_type": "markdown",
   "metadata": {},
   "source": [
    "### Eccentricity distribution:"
   ]
  },
  {
   "cell_type": "code",
   "execution_count": null,
   "metadata": {},
   "outputs": [],
   "source": [
    "import networkx as nx\n",
    "from pyvis.network import Network\n",
    "\n",
    "# Read data from file\n",
    "with open(\"../data/road-euroroad.edges\", \"r\") as f:\n",
    "    lines = f.readlines()\n",
    "\n",
    "# Create a graph\n",
    "G = nx.Graph()\n",
    "\n",
    "# Add nodes and edges to the graph\n",
    "for line in lines:\n",
    "    if not line.startswith(\"%\"):\n",
    "        node1, node2 = map(int, line.split())\n",
    "        G.add_edge(node1, node2)\n",
    "\n",
    "# Compute eccentricity for each node in the graph\n",
    "eccentricities = nx.eccentricity(G)\n",
    "\n",
    "# Print the eccentricity for each node\n",
    "for node, eccentricity in eccentricities.items():\n",
    "    print(f\"Eccentricity of node {node}: {eccentricity}\")\n"
   ]
  },
  {
   "cell_type": "markdown",
   "metadata": {},
   "source": []
  },
  {
   "cell_type": "markdown",
   "metadata": {},
   "source": [
    "### community structure:"
   ]
  },
  {
   "cell_type": "code",
   "execution_count": null,
   "metadata": {},
   "outputs": [],
   "source": []
  },
  {
   "cell_type": "markdown",
   "metadata": {},
   "source": [
    "### Centrality metrics:\n",
    "#### Degree Centrality:"
   ]
  },
  {
   "cell_type": "code",
   "execution_count": null,
   "metadata": {},
   "outputs": [],
   "source": []
  },
  {
   "cell_type": "markdown",
   "metadata": {},
   "source": [
    "#### Betweenness Centrality:"
   ]
  },
  {
   "cell_type": "code",
   "execution_count": null,
   "metadata": {},
   "outputs": [],
   "source": []
  },
  {
   "cell_type": "markdown",
   "metadata": {},
   "source": [
    "#### Closeness Centrality:"
   ]
  },
  {
   "cell_type": "code",
   "execution_count": null,
   "metadata": {},
   "outputs": [],
   "source": []
  },
  {
   "cell_type": "markdown",
   "metadata": {},
   "source": [
    "#### Straightness centrality:"
   ]
  },
  {
   "cell_type": "code",
   "execution_count": null,
   "metadata": {},
   "outputs": [],
   "source": []
  },
  {
   "cell_type": "markdown",
   "metadata": {},
   "source": [
    "### Map and Centrality measures:"
   ]
  },
  {
   "cell_type": "code",
   "execution_count": null,
   "metadata": {},
   "outputs": [],
   "source": []
  },
  {
   "cell_type": "markdown",
   "metadata": {},
   "source": [
    "### Degree metrics:\n",
    "#### Degree Distribution:"
   ]
  },
  {
   "cell_type": "code",
   "execution_count": null,
   "metadata": {},
   "outputs": [],
   "source": []
  },
  {
   "cell_type": "markdown",
   "metadata": {},
   "source": [
    "#### Degree correlation:"
   ]
  },
  {
   "cell_type": "code",
   "execution_count": null,
   "metadata": {},
   "outputs": [],
   "source": []
  },
  {
   "cell_type": "markdown",
   "metadata": {},
   "source": [
    "### Clustering metrics:\n",
    "#### Clustering-degree correlation:"
   ]
  },
  {
   "cell_type": "code",
   "execution_count": null,
   "metadata": {},
   "outputs": [],
   "source": []
  },
  {
   "cell_type": "markdown",
   "metadata": {},
   "source": [
    "#### Clustering coefficient:"
   ]
  },
  {
   "cell_type": "code",
   "execution_count": null,
   "metadata": {},
   "outputs": [],
   "source": []
  },
  {
   "cell_type": "markdown",
   "metadata": {},
   "source": [
    "#### Assortativity metrics:"
   ]
  },
  {
   "cell_type": "code",
   "execution_count": null,
   "metadata": {},
   "outputs": [],
   "source": []
  },
  {
   "cell_type": "markdown",
   "metadata": {},
   "source": [
    "## Topological Weighted (for edges) and Strength (for nodes):\n",
    "### Weighted Network visualization:"
   ]
  },
  {
   "cell_type": "code",
   "execution_count": null,
   "metadata": {},
   "outputs": [],
   "source": []
  },
  {
   "cell_type": "markdown",
   "metadata": {},
   "source": [
    "### Average weight:"
   ]
  },
  {
   "cell_type": "code",
   "execution_count": null,
   "metadata": {},
   "outputs": [],
   "source": []
  },
  {
   "cell_type": "markdown",
   "metadata": {},
   "source": [
    "### Weight range:"
   ]
  },
  {
   "cell_type": "code",
   "execution_count": null,
   "metadata": {},
   "outputs": [],
   "source": []
  },
  {
   "cell_type": "markdown",
   "metadata": {},
   "source": [
    "### Centrality with:"
   ]
  },
  {
   "cell_type": "code",
   "execution_count": null,
   "metadata": {},
   "outputs": [],
   "source": []
  },
  {
   "cell_type": "markdown",
   "metadata": {},
   "source": [
    "### Weight clustering coefficient:"
   ]
  },
  {
   "cell_type": "code",
   "execution_count": null,
   "metadata": {},
   "outputs": [],
   "source": []
  },
  {
   "cell_type": "markdown",
   "metadata": {},
   "source": []
  }
 ],
 "metadata": {
  "kernelspec": {
   "display_name": "Python 3 (ipykernel)",
   "language": "python",
   "name": "python3"
  },
  "language_info": {
   "codemirror_mode": {
    "name": "ipython",
    "version": 3
   },
   "file_extension": ".py",
   "mimetype": "text/x-python",
   "name": "python",
   "nbconvert_exporter": "python",
   "pygments_lexer": "ipython3",
   "version": "3.11.1"
  }
 },
 "nbformat": 4,
 "nbformat_minor": 1
}
