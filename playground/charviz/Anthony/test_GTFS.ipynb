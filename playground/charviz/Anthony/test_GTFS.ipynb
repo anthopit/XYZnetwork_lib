{
 "cells": [
  {
   "cell_type": "code",
   "execution_count": 2,
   "metadata": {
    "collapsed": true
   },
   "outputs": [],
   "source": [
    "import pandas as pd\n",
    "import networkx as nx\n",
    "from tqdm import tqdm\n",
    "from datetime import datetime, timedelta\n",
    "import classes.transportnetwork as tn\n",
    "import networkviz.visualisation as viz\n",
    "import preprocessing.Preprocessing as pp"
   ]
  },
  {
   "cell_type": "code",
   "execution_count": 15,
   "outputs": [],
   "source": [
    "df_stop_time = pd.read_csv('../../../data/gtfs/stop_times.txt')\n",
    "df_stop = pd.read_csv('../../../data/gtfs/stops.txt')\n",
    "df_trip = pd.read_csv('../../../data/gtfs/trips.txt')\n",
    "df_shape = pd.read_csv('../../../data/gtfs/shapes.txt')"
   ],
   "metadata": {
    "collapsed": false
   }
  },
  {
   "cell_type": "code",
   "execution_count": 16,
   "outputs": [
    {
     "data": {
      "text/plain": "      trip_id arrival_time departure_time stop_id  stop_sequence  \\\n0       L3334     05:59:00       05:59:00   184:0              1   \n1       L3334     06:04:00       06:04:00     189              2   \n2       L3334     06:07:00       06:07:00     181              3   \n3       L3334     06:08:00       06:08:00    9300              4   \n4       L3334     06:10:00       06:10:00     305              5   \n...       ...          ...            ...     ...            ...   \n37146    N786     19:30:00       19:30:00     580             10   \n37147    N786     19:32:00       19:32:00    1494             11   \n37148    N786     19:35:00       19:35:00    1500             12   \n37149    N786     19:36:00       19:36:00    1499             13   \n37150    N786     19:37:00       19:37:00     194             14   \n\n       stop_headsign  pickup_type  drop_off_type  shape_dist_traveled  \\\n0                NaN            0              1                  NaN   \n1                NaN            0              0                  NaN   \n2                NaN            0              0                  NaN   \n3                NaN            0              0                  NaN   \n4                NaN            0              0                  NaN   \n...              ...          ...            ...                  ...   \n37146            NaN            0              0                  NaN   \n37147            NaN            0              0                  NaN   \n37148            NaN            0              0                  NaN   \n37149            NaN            0              0                  NaN   \n37150            NaN            1              0                  NaN   \n\n       timepoint  \n0              1  \n1              1  \n2              1  \n3              1  \n4              1  \n...          ...  \n37146          1  \n37147          1  \n37148          1  \n37149          1  \n37150          1  \n\n[37151 rows x 10 columns]",
      "text/html": "<div>\n<style scoped>\n    .dataframe tbody tr th:only-of-type {\n        vertical-align: middle;\n    }\n\n    .dataframe tbody tr th {\n        vertical-align: top;\n    }\n\n    .dataframe thead th {\n        text-align: right;\n    }\n</style>\n<table border=\"1\" class=\"dataframe\">\n  <thead>\n    <tr style=\"text-align: right;\">\n      <th></th>\n      <th>trip_id</th>\n      <th>arrival_time</th>\n      <th>departure_time</th>\n      <th>stop_id</th>\n      <th>stop_sequence</th>\n      <th>stop_headsign</th>\n      <th>pickup_type</th>\n      <th>drop_off_type</th>\n      <th>shape_dist_traveled</th>\n      <th>timepoint</th>\n    </tr>\n  </thead>\n  <tbody>\n    <tr>\n      <th>0</th>\n      <td>L3334</td>\n      <td>05:59:00</td>\n      <td>05:59:00</td>\n      <td>184:0</td>\n      <td>1</td>\n      <td>NaN</td>\n      <td>0</td>\n      <td>1</td>\n      <td>NaN</td>\n      <td>1</td>\n    </tr>\n    <tr>\n      <th>1</th>\n      <td>L3334</td>\n      <td>06:04:00</td>\n      <td>06:04:00</td>\n      <td>189</td>\n      <td>2</td>\n      <td>NaN</td>\n      <td>0</td>\n      <td>0</td>\n      <td>NaN</td>\n      <td>1</td>\n    </tr>\n    <tr>\n      <th>2</th>\n      <td>L3334</td>\n      <td>06:07:00</td>\n      <td>06:07:00</td>\n      <td>181</td>\n      <td>3</td>\n      <td>NaN</td>\n      <td>0</td>\n      <td>0</td>\n      <td>NaN</td>\n      <td>1</td>\n    </tr>\n    <tr>\n      <th>3</th>\n      <td>L3334</td>\n      <td>06:08:00</td>\n      <td>06:08:00</td>\n      <td>9300</td>\n      <td>4</td>\n      <td>NaN</td>\n      <td>0</td>\n      <td>0</td>\n      <td>NaN</td>\n      <td>1</td>\n    </tr>\n    <tr>\n      <th>4</th>\n      <td>L3334</td>\n      <td>06:10:00</td>\n      <td>06:10:00</td>\n      <td>305</td>\n      <td>5</td>\n      <td>NaN</td>\n      <td>0</td>\n      <td>0</td>\n      <td>NaN</td>\n      <td>1</td>\n    </tr>\n    <tr>\n      <th>...</th>\n      <td>...</td>\n      <td>...</td>\n      <td>...</td>\n      <td>...</td>\n      <td>...</td>\n      <td>...</td>\n      <td>...</td>\n      <td>...</td>\n      <td>...</td>\n      <td>...</td>\n    </tr>\n    <tr>\n      <th>37146</th>\n      <td>N786</td>\n      <td>19:30:00</td>\n      <td>19:30:00</td>\n      <td>580</td>\n      <td>10</td>\n      <td>NaN</td>\n      <td>0</td>\n      <td>0</td>\n      <td>NaN</td>\n      <td>1</td>\n    </tr>\n    <tr>\n      <th>37147</th>\n      <td>N786</td>\n      <td>19:32:00</td>\n      <td>19:32:00</td>\n      <td>1494</td>\n      <td>11</td>\n      <td>NaN</td>\n      <td>0</td>\n      <td>0</td>\n      <td>NaN</td>\n      <td>1</td>\n    </tr>\n    <tr>\n      <th>37148</th>\n      <td>N786</td>\n      <td>19:35:00</td>\n      <td>19:35:00</td>\n      <td>1500</td>\n      <td>12</td>\n      <td>NaN</td>\n      <td>0</td>\n      <td>0</td>\n      <td>NaN</td>\n      <td>1</td>\n    </tr>\n    <tr>\n      <th>37149</th>\n      <td>N786</td>\n      <td>19:36:00</td>\n      <td>19:36:00</td>\n      <td>1499</td>\n      <td>13</td>\n      <td>NaN</td>\n      <td>0</td>\n      <td>0</td>\n      <td>NaN</td>\n      <td>1</td>\n    </tr>\n    <tr>\n      <th>37150</th>\n      <td>N786</td>\n      <td>19:37:00</td>\n      <td>19:37:00</td>\n      <td>194</td>\n      <td>14</td>\n      <td>NaN</td>\n      <td>1</td>\n      <td>0</td>\n      <td>NaN</td>\n      <td>1</td>\n    </tr>\n  </tbody>\n</table>\n<p>37151 rows × 10 columns</p>\n</div>"
     },
     "execution_count": 16,
     "metadata": {},
     "output_type": "execute_result"
    }
   ],
   "source": [
    "df_stop_time"
   ],
   "metadata": {
    "collapsed": false
   }
  },
  {
   "cell_type": "code",
   "execution_count": 17,
   "outputs": [
    {
     "data": {
      "text/plain": "    stop_id stop_code             stop_name  \\\n0       145    HECHA2                Abadia   \n1        64    HECHA1                Abadia   \n2       137    AERO01  Aéroport de Biarritz   \n3       433    HEAGE1               Agerrea   \n4       434    HEAGE2               Agerrea   \n..      ...       ...                   ...   \n460    1413    HEZO12              Zopite 1   \n461    1412    HEZO22              Zopite 2   \n462     585    HEZO21              Zopite 2   \n463    1454    CIZUB2              Zubiburu   \n464     428    CIZUB1              Zubiburu   \n\n                                             stop_desc   stop_lat  stop_lon  \\\n0    Direction ~ Norabidea: Plaza San Juan / Grande...  43.374375 -1.752050   \n1    Direction ~ Norabidea: EHPAD / Autoport / Halt...  43.374653 -1.751877   \n2    Direction ~ Norabidea: Bayonne Place des Basqu...  43.472178 -1.532808   \n3                      Direction ~ Norabidea: Autoport  43.372023 -1.746788   \n4                  Direction ~ Norabidea: Grande Plage  43.372303 -1.747608   \n..                                                 ...        ...       ...   \n460                Direction ~ Norabidea: Grande Plage  43.370157 -1.755397   \n461                Direction ~ Norabidea: Grande Plage  43.367703 -1.750537   \n462                    Direction ~ Norabidea: Autoport  43.367703 -1.750537   \n463         Direction ~ Norabidea: Lafiténia / Alturan  43.382490 -1.666277   \n464  Direction ~ Norabidea: Zaldi Xurito / Urrugne ...  43.382490 -1.666277   \n\n     zone_id  stop_url  location_type  parent_station  wheelchair_boarding  \\\n0        NaN       NaN              0             NaN                    0   \n1        NaN       NaN              0             NaN                    0   \n2        NaN       NaN              0             NaN                    0   \n3        NaN       NaN              0             NaN                    0   \n4        NaN       NaN              0             NaN                    0   \n..       ...       ...            ...             ...                  ...   \n460      NaN       NaN              0             NaN                    0   \n461      NaN       NaN              0             NaN                    0   \n462      NaN       NaN              0             NaN                    0   \n463      NaN       NaN              0             NaN                    0   \n464      NaN       NaN              0             NaN                    0   \n\n     platform_code city_name ext_siri2_id  \n0              NaN       NaN          NaN  \n1              NaN       NaN          NaN  \n2              NaN       NaN          137  \n3              NaN       NaN          NaN  \n4              NaN       NaN          NaN  \n..             ...       ...          ...  \n460            NaN       NaN          NaN  \n461            NaN       NaN          NaN  \n462            NaN       NaN          NaN  \n463            NaN       NaN          NaN  \n464            NaN       NaN          NaN  \n\n[465 rows x 14 columns]",
      "text/html": "<div>\n<style scoped>\n    .dataframe tbody tr th:only-of-type {\n        vertical-align: middle;\n    }\n\n    .dataframe tbody tr th {\n        vertical-align: top;\n    }\n\n    .dataframe thead th {\n        text-align: right;\n    }\n</style>\n<table border=\"1\" class=\"dataframe\">\n  <thead>\n    <tr style=\"text-align: right;\">\n      <th></th>\n      <th>stop_id</th>\n      <th>stop_code</th>\n      <th>stop_name</th>\n      <th>stop_desc</th>\n      <th>stop_lat</th>\n      <th>stop_lon</th>\n      <th>zone_id</th>\n      <th>stop_url</th>\n      <th>location_type</th>\n      <th>parent_station</th>\n      <th>wheelchair_boarding</th>\n      <th>platform_code</th>\n      <th>city_name</th>\n      <th>ext_siri2_id</th>\n    </tr>\n  </thead>\n  <tbody>\n    <tr>\n      <th>0</th>\n      <td>145</td>\n      <td>HECHA2</td>\n      <td>Abadia</td>\n      <td>Direction ~ Norabidea: Plaza San Juan / Grande...</td>\n      <td>43.374375</td>\n      <td>-1.752050</td>\n      <td>NaN</td>\n      <td>NaN</td>\n      <td>0</td>\n      <td>NaN</td>\n      <td>0</td>\n      <td>NaN</td>\n      <td>NaN</td>\n      <td>NaN</td>\n    </tr>\n    <tr>\n      <th>1</th>\n      <td>64</td>\n      <td>HECHA1</td>\n      <td>Abadia</td>\n      <td>Direction ~ Norabidea: EHPAD / Autoport / Halt...</td>\n      <td>43.374653</td>\n      <td>-1.751877</td>\n      <td>NaN</td>\n      <td>NaN</td>\n      <td>0</td>\n      <td>NaN</td>\n      <td>0</td>\n      <td>NaN</td>\n      <td>NaN</td>\n      <td>NaN</td>\n    </tr>\n    <tr>\n      <th>2</th>\n      <td>137</td>\n      <td>AERO01</td>\n      <td>Aéroport de Biarritz</td>\n      <td>Direction ~ Norabidea: Bayonne Place des Basqu...</td>\n      <td>43.472178</td>\n      <td>-1.532808</td>\n      <td>NaN</td>\n      <td>NaN</td>\n      <td>0</td>\n      <td>NaN</td>\n      <td>0</td>\n      <td>NaN</td>\n      <td>NaN</td>\n      <td>137</td>\n    </tr>\n    <tr>\n      <th>3</th>\n      <td>433</td>\n      <td>HEAGE1</td>\n      <td>Agerrea</td>\n      <td>Direction ~ Norabidea: Autoport</td>\n      <td>43.372023</td>\n      <td>-1.746788</td>\n      <td>NaN</td>\n      <td>NaN</td>\n      <td>0</td>\n      <td>NaN</td>\n      <td>0</td>\n      <td>NaN</td>\n      <td>NaN</td>\n      <td>NaN</td>\n    </tr>\n    <tr>\n      <th>4</th>\n      <td>434</td>\n      <td>HEAGE2</td>\n      <td>Agerrea</td>\n      <td>Direction ~ Norabidea: Grande Plage</td>\n      <td>43.372303</td>\n      <td>-1.747608</td>\n      <td>NaN</td>\n      <td>NaN</td>\n      <td>0</td>\n      <td>NaN</td>\n      <td>0</td>\n      <td>NaN</td>\n      <td>NaN</td>\n      <td>NaN</td>\n    </tr>\n    <tr>\n      <th>...</th>\n      <td>...</td>\n      <td>...</td>\n      <td>...</td>\n      <td>...</td>\n      <td>...</td>\n      <td>...</td>\n      <td>...</td>\n      <td>...</td>\n      <td>...</td>\n      <td>...</td>\n      <td>...</td>\n      <td>...</td>\n      <td>...</td>\n      <td>...</td>\n    </tr>\n    <tr>\n      <th>460</th>\n      <td>1413</td>\n      <td>HEZO12</td>\n      <td>Zopite 1</td>\n      <td>Direction ~ Norabidea: Grande Plage</td>\n      <td>43.370157</td>\n      <td>-1.755397</td>\n      <td>NaN</td>\n      <td>NaN</td>\n      <td>0</td>\n      <td>NaN</td>\n      <td>0</td>\n      <td>NaN</td>\n      <td>NaN</td>\n      <td>NaN</td>\n    </tr>\n    <tr>\n      <th>461</th>\n      <td>1412</td>\n      <td>HEZO22</td>\n      <td>Zopite 2</td>\n      <td>Direction ~ Norabidea: Grande Plage</td>\n      <td>43.367703</td>\n      <td>-1.750537</td>\n      <td>NaN</td>\n      <td>NaN</td>\n      <td>0</td>\n      <td>NaN</td>\n      <td>0</td>\n      <td>NaN</td>\n      <td>NaN</td>\n      <td>NaN</td>\n    </tr>\n    <tr>\n      <th>462</th>\n      <td>585</td>\n      <td>HEZO21</td>\n      <td>Zopite 2</td>\n      <td>Direction ~ Norabidea: Autoport</td>\n      <td>43.367703</td>\n      <td>-1.750537</td>\n      <td>NaN</td>\n      <td>NaN</td>\n      <td>0</td>\n      <td>NaN</td>\n      <td>0</td>\n      <td>NaN</td>\n      <td>NaN</td>\n      <td>NaN</td>\n    </tr>\n    <tr>\n      <th>463</th>\n      <td>1454</td>\n      <td>CIZUB2</td>\n      <td>Zubiburu</td>\n      <td>Direction ~ Norabidea: Lafiténia / Alturan</td>\n      <td>43.382490</td>\n      <td>-1.666277</td>\n      <td>NaN</td>\n      <td>NaN</td>\n      <td>0</td>\n      <td>NaN</td>\n      <td>0</td>\n      <td>NaN</td>\n      <td>NaN</td>\n      <td>NaN</td>\n    </tr>\n    <tr>\n      <th>464</th>\n      <td>428</td>\n      <td>CIZUB1</td>\n      <td>Zubiburu</td>\n      <td>Direction ~ Norabidea: Zaldi Xurito / Urrugne ...</td>\n      <td>43.382490</td>\n      <td>-1.666277</td>\n      <td>NaN</td>\n      <td>NaN</td>\n      <td>0</td>\n      <td>NaN</td>\n      <td>0</td>\n      <td>NaN</td>\n      <td>NaN</td>\n      <td>NaN</td>\n    </tr>\n  </tbody>\n</table>\n<p>465 rows × 14 columns</p>\n</div>"
     },
     "execution_count": 17,
     "metadata": {},
     "output_type": "execute_result"
    }
   ],
   "source": [
    "df_stop"
   ],
   "metadata": {
    "collapsed": false
   }
  },
  {
   "cell_type": "code",
   "execution_count": 18,
   "outputs": [
    {
     "data": {
      "text/plain": "      route_id service_id trip_id              trip_headsign  direction_id  \\\n0           67       L327   L3334  Bayonne Place des Basques             0   \n1           67       L340   L3466  Bayonne Place des Basques             0   \n2           67       L329   L3335  Bayonne Place des Basques             0   \n3           67       L338   L3467  Bayonne Place des Basques             0   \n4           67       L327   L3336  Bayonne Place des Basques             0   \n...        ...        ...     ...                        ...           ...   \n1335       158        N58    N997             Halte Routière             1   \n1336       158        N58   N1032                     Ahetze             1   \n1337       158         N3    N270                     Ahetze             1   \n1338       158        N32    N539                     Ahetze             1   \n1339       158        N45    N786                     Ahetze             1   \n\n      block_id shape_id  wheelchair_accessible  bikes_allowed  \n0          NaN  L303100                      0              0  \n1          NaN  L303100                      0              0  \n2          NaN  L303100                      0              0  \n3          NaN  L303100                      0              0  \n4          NaN  L303101                      0              0  \n...        ...      ...                    ...            ...  \n1335       NaN      NaN                      0              0  \n1336       NaN      NaN                      0              0  \n1337       NaN      NaN                      0              0  \n1338       NaN      NaN                      0              0  \n1339       NaN      NaN                      0              0  \n\n[1340 rows x 9 columns]",
      "text/html": "<div>\n<style scoped>\n    .dataframe tbody tr th:only-of-type {\n        vertical-align: middle;\n    }\n\n    .dataframe tbody tr th {\n        vertical-align: top;\n    }\n\n    .dataframe thead th {\n        text-align: right;\n    }\n</style>\n<table border=\"1\" class=\"dataframe\">\n  <thead>\n    <tr style=\"text-align: right;\">\n      <th></th>\n      <th>route_id</th>\n      <th>service_id</th>\n      <th>trip_id</th>\n      <th>trip_headsign</th>\n      <th>direction_id</th>\n      <th>block_id</th>\n      <th>shape_id</th>\n      <th>wheelchair_accessible</th>\n      <th>bikes_allowed</th>\n    </tr>\n  </thead>\n  <tbody>\n    <tr>\n      <th>0</th>\n      <td>67</td>\n      <td>L327</td>\n      <td>L3334</td>\n      <td>Bayonne Place des Basques</td>\n      <td>0</td>\n      <td>NaN</td>\n      <td>L303100</td>\n      <td>0</td>\n      <td>0</td>\n    </tr>\n    <tr>\n      <th>1</th>\n      <td>67</td>\n      <td>L340</td>\n      <td>L3466</td>\n      <td>Bayonne Place des Basques</td>\n      <td>0</td>\n      <td>NaN</td>\n      <td>L303100</td>\n      <td>0</td>\n      <td>0</td>\n    </tr>\n    <tr>\n      <th>2</th>\n      <td>67</td>\n      <td>L329</td>\n      <td>L3335</td>\n      <td>Bayonne Place des Basques</td>\n      <td>0</td>\n      <td>NaN</td>\n      <td>L303100</td>\n      <td>0</td>\n      <td>0</td>\n    </tr>\n    <tr>\n      <th>3</th>\n      <td>67</td>\n      <td>L338</td>\n      <td>L3467</td>\n      <td>Bayonne Place des Basques</td>\n      <td>0</td>\n      <td>NaN</td>\n      <td>L303100</td>\n      <td>0</td>\n      <td>0</td>\n    </tr>\n    <tr>\n      <th>4</th>\n      <td>67</td>\n      <td>L327</td>\n      <td>L3336</td>\n      <td>Bayonne Place des Basques</td>\n      <td>0</td>\n      <td>NaN</td>\n      <td>L303101</td>\n      <td>0</td>\n      <td>0</td>\n    </tr>\n    <tr>\n      <th>...</th>\n      <td>...</td>\n      <td>...</td>\n      <td>...</td>\n      <td>...</td>\n      <td>...</td>\n      <td>...</td>\n      <td>...</td>\n      <td>...</td>\n      <td>...</td>\n    </tr>\n    <tr>\n      <th>1335</th>\n      <td>158</td>\n      <td>N58</td>\n      <td>N997</td>\n      <td>Halte Routière</td>\n      <td>1</td>\n      <td>NaN</td>\n      <td>NaN</td>\n      <td>0</td>\n      <td>0</td>\n    </tr>\n    <tr>\n      <th>1336</th>\n      <td>158</td>\n      <td>N58</td>\n      <td>N1032</td>\n      <td>Ahetze</td>\n      <td>1</td>\n      <td>NaN</td>\n      <td>NaN</td>\n      <td>0</td>\n      <td>0</td>\n    </tr>\n    <tr>\n      <th>1337</th>\n      <td>158</td>\n      <td>N3</td>\n      <td>N270</td>\n      <td>Ahetze</td>\n      <td>1</td>\n      <td>NaN</td>\n      <td>NaN</td>\n      <td>0</td>\n      <td>0</td>\n    </tr>\n    <tr>\n      <th>1338</th>\n      <td>158</td>\n      <td>N32</td>\n      <td>N539</td>\n      <td>Ahetze</td>\n      <td>1</td>\n      <td>NaN</td>\n      <td>NaN</td>\n      <td>0</td>\n      <td>0</td>\n    </tr>\n    <tr>\n      <th>1339</th>\n      <td>158</td>\n      <td>N45</td>\n      <td>N786</td>\n      <td>Ahetze</td>\n      <td>1</td>\n      <td>NaN</td>\n      <td>NaN</td>\n      <td>0</td>\n      <td>0</td>\n    </tr>\n  </tbody>\n</table>\n<p>1340 rows × 9 columns</p>\n</div>"
     },
     "execution_count": 18,
     "metadata": {},
     "output_type": "execute_result"
    }
   ],
   "source": [
    "df_trip"
   ],
   "metadata": {
    "collapsed": false
   }
  },
  {
   "cell_type": "code",
   "execution_count": 19,
   "outputs": [
    {
     "data": {
      "text/plain": "      shape_id  shape_pt_lat  shape_pt_lon  shape_pt_sequence  \\\n0      L303100     43.372982     -1.775514                  1   \n1      L303100     43.372959     -1.775670                  2   \n2      L303100     43.372139     -1.775770                  3   \n3      L303100     43.372261     -1.774700                  4   \n4      L303100     43.371929     -1.774640                  5   \n...        ...           ...           ...                ...   \n17463  L303207     43.386742     -1.658680               1606   \n17464  L303207     43.386669     -1.658810               1607   \n17465  L303207     43.386501     -1.659210               1608   \n17466  L303207     43.386269     -1.659940               1609   \n17467  L303207     43.386208     -1.660132               1610   \n\n       shape_dist_traveled  \n0                      0.0  \n1                     12.0  \n2                    104.0  \n3                    192.0  \n4                    229.0  \n...                    ...  \n17463              28251.0  \n17464              28264.0  \n17465              28302.0  \n17466              28366.0  \n17467              28383.0  \n\n[17468 rows x 5 columns]",
      "text/html": "<div>\n<style scoped>\n    .dataframe tbody tr th:only-of-type {\n        vertical-align: middle;\n    }\n\n    .dataframe tbody tr th {\n        vertical-align: top;\n    }\n\n    .dataframe thead th {\n        text-align: right;\n    }\n</style>\n<table border=\"1\" class=\"dataframe\">\n  <thead>\n    <tr style=\"text-align: right;\">\n      <th></th>\n      <th>shape_id</th>\n      <th>shape_pt_lat</th>\n      <th>shape_pt_lon</th>\n      <th>shape_pt_sequence</th>\n      <th>shape_dist_traveled</th>\n    </tr>\n  </thead>\n  <tbody>\n    <tr>\n      <th>0</th>\n      <td>L303100</td>\n      <td>43.372982</td>\n      <td>-1.775514</td>\n      <td>1</td>\n      <td>0.0</td>\n    </tr>\n    <tr>\n      <th>1</th>\n      <td>L303100</td>\n      <td>43.372959</td>\n      <td>-1.775670</td>\n      <td>2</td>\n      <td>12.0</td>\n    </tr>\n    <tr>\n      <th>2</th>\n      <td>L303100</td>\n      <td>43.372139</td>\n      <td>-1.775770</td>\n      <td>3</td>\n      <td>104.0</td>\n    </tr>\n    <tr>\n      <th>3</th>\n      <td>L303100</td>\n      <td>43.372261</td>\n      <td>-1.774700</td>\n      <td>4</td>\n      <td>192.0</td>\n    </tr>\n    <tr>\n      <th>4</th>\n      <td>L303100</td>\n      <td>43.371929</td>\n      <td>-1.774640</td>\n      <td>5</td>\n      <td>229.0</td>\n    </tr>\n    <tr>\n      <th>...</th>\n      <td>...</td>\n      <td>...</td>\n      <td>...</td>\n      <td>...</td>\n      <td>...</td>\n    </tr>\n    <tr>\n      <th>17463</th>\n      <td>L303207</td>\n      <td>43.386742</td>\n      <td>-1.658680</td>\n      <td>1606</td>\n      <td>28251.0</td>\n    </tr>\n    <tr>\n      <th>17464</th>\n      <td>L303207</td>\n      <td>43.386669</td>\n      <td>-1.658810</td>\n      <td>1607</td>\n      <td>28264.0</td>\n    </tr>\n    <tr>\n      <th>17465</th>\n      <td>L303207</td>\n      <td>43.386501</td>\n      <td>-1.659210</td>\n      <td>1608</td>\n      <td>28302.0</td>\n    </tr>\n    <tr>\n      <th>17466</th>\n      <td>L303207</td>\n      <td>43.386269</td>\n      <td>-1.659940</td>\n      <td>1609</td>\n      <td>28366.0</td>\n    </tr>\n    <tr>\n      <th>17467</th>\n      <td>L303207</td>\n      <td>43.386208</td>\n      <td>-1.660132</td>\n      <td>1610</td>\n      <td>28383.0</td>\n    </tr>\n  </tbody>\n</table>\n<p>17468 rows × 5 columns</p>\n</div>"
     },
     "execution_count": 19,
     "metadata": {},
     "output_type": "execute_result"
    }
   ],
   "source": [
    "df_shape"
   ],
   "metadata": {
    "collapsed": false
   }
  },
  {
   "cell_type": "code",
   "execution_count": 20,
   "outputs": [
    {
     "data": {
      "text/plain": "      trip_id arrival_time departure_time stop_id  stop_sequence  \\\n0       L3334     05:59:00       05:59:00   184:0              1   \n1       L3334     06:04:00       06:04:00     189              2   \n2       L3334     06:07:00       06:07:00     181              3   \n3       L3334     06:08:00       06:08:00    9300              4   \n4       L3334     06:10:00       06:10:00     305              5   \n...       ...          ...            ...     ...            ...   \n37146    N786     19:30:00       19:30:00     580             10   \n37147    N786     19:32:00       19:32:00    1494             11   \n37148    N786     19:35:00       19:35:00    1500             12   \n37149    N786     19:36:00       19:36:00    1499             13   \n37150    N786     19:37:00       19:37:00     194             14   \n\n       stop_headsign  pickup_type  drop_off_type  shape_dist_traveled  \\\n0                NaN            0              1                  NaN   \n1                NaN            0              0                  NaN   \n2                NaN            0              0                  NaN   \n3                NaN            0              0                  NaN   \n4                NaN            0              0                  NaN   \n...              ...          ...            ...                  ...   \n37146            NaN            0              0                  NaN   \n37147            NaN            0              0                  NaN   \n37148            NaN            0              0                  NaN   \n37149            NaN            0              0                  NaN   \n37150            NaN            1              0                  NaN   \n\n       timepoint  ... city_name ext_siri2_id route_id  service_id  \\\n0              1  ...       NaN        184:0       67        L327   \n1              1  ...       NaN          189       67        L327   \n2              1  ...   Hendaye          181       67        L327   \n3              1  ...       NaN         9300       67        L327   \n4              1  ...       NaN          305       67        L327   \n...          ...  ...       ...          ...      ...         ...   \n37146          1  ...       NaN          NaN      158         N45   \n37147          1  ...       NaN          NaN      158         N45   \n37148          1  ...       NaN          NaN      158         N45   \n37149          1  ...       NaN          NaN      158         N45   \n37150          1  ...    Ahetze          NaN      158         N45   \n\n                   trip_headsign  direction_id  block_id  shape_id  \\\n0      Bayonne Place des Basques             0       NaN   L303100   \n1      Bayonne Place des Basques             0       NaN   L303100   \n2      Bayonne Place des Basques             0       NaN   L303100   \n3      Bayonne Place des Basques             0       NaN   L303100   \n4      Bayonne Place des Basques             0       NaN   L303100   \n...                          ...           ...       ...       ...   \n37146                     Ahetze             1       NaN       NaN   \n37147                     Ahetze             1       NaN       NaN   \n37148                     Ahetze             1       NaN       NaN   \n37149                     Ahetze             1       NaN       NaN   \n37150                     Ahetze             1       NaN       NaN   \n\n       wheelchair_accessible  bikes_allowed  \n0                          0              0  \n1                          0              0  \n2                          0              0  \n3                          0              0  \n4                          0              0  \n...                      ...            ...  \n37146                      0              0  \n37147                      0              0  \n37148                      0              0  \n37149                      0              0  \n37150                      0              0  \n\n[37151 rows x 31 columns]",
      "text/html": "<div>\n<style scoped>\n    .dataframe tbody tr th:only-of-type {\n        vertical-align: middle;\n    }\n\n    .dataframe tbody tr th {\n        vertical-align: top;\n    }\n\n    .dataframe thead th {\n        text-align: right;\n    }\n</style>\n<table border=\"1\" class=\"dataframe\">\n  <thead>\n    <tr style=\"text-align: right;\">\n      <th></th>\n      <th>trip_id</th>\n      <th>arrival_time</th>\n      <th>departure_time</th>\n      <th>stop_id</th>\n      <th>stop_sequence</th>\n      <th>stop_headsign</th>\n      <th>pickup_type</th>\n      <th>drop_off_type</th>\n      <th>shape_dist_traveled</th>\n      <th>timepoint</th>\n      <th>...</th>\n      <th>city_name</th>\n      <th>ext_siri2_id</th>\n      <th>route_id</th>\n      <th>service_id</th>\n      <th>trip_headsign</th>\n      <th>direction_id</th>\n      <th>block_id</th>\n      <th>shape_id</th>\n      <th>wheelchair_accessible</th>\n      <th>bikes_allowed</th>\n    </tr>\n  </thead>\n  <tbody>\n    <tr>\n      <th>0</th>\n      <td>L3334</td>\n      <td>05:59:00</td>\n      <td>05:59:00</td>\n      <td>184:0</td>\n      <td>1</td>\n      <td>NaN</td>\n      <td>0</td>\n      <td>1</td>\n      <td>NaN</td>\n      <td>1</td>\n      <td>...</td>\n      <td>NaN</td>\n      <td>184:0</td>\n      <td>67</td>\n      <td>L327</td>\n      <td>Bayonne Place des Basques</td>\n      <td>0</td>\n      <td>NaN</td>\n      <td>L303100</td>\n      <td>0</td>\n      <td>0</td>\n    </tr>\n    <tr>\n      <th>1</th>\n      <td>L3334</td>\n      <td>06:04:00</td>\n      <td>06:04:00</td>\n      <td>189</td>\n      <td>2</td>\n      <td>NaN</td>\n      <td>0</td>\n      <td>0</td>\n      <td>NaN</td>\n      <td>1</td>\n      <td>...</td>\n      <td>NaN</td>\n      <td>189</td>\n      <td>67</td>\n      <td>L327</td>\n      <td>Bayonne Place des Basques</td>\n      <td>0</td>\n      <td>NaN</td>\n      <td>L303100</td>\n      <td>0</td>\n      <td>0</td>\n    </tr>\n    <tr>\n      <th>2</th>\n      <td>L3334</td>\n      <td>06:07:00</td>\n      <td>06:07:00</td>\n      <td>181</td>\n      <td>3</td>\n      <td>NaN</td>\n      <td>0</td>\n      <td>0</td>\n      <td>NaN</td>\n      <td>1</td>\n      <td>...</td>\n      <td>Hendaye</td>\n      <td>181</td>\n      <td>67</td>\n      <td>L327</td>\n      <td>Bayonne Place des Basques</td>\n      <td>0</td>\n      <td>NaN</td>\n      <td>L303100</td>\n      <td>0</td>\n      <td>0</td>\n    </tr>\n    <tr>\n      <th>3</th>\n      <td>L3334</td>\n      <td>06:08:00</td>\n      <td>06:08:00</td>\n      <td>9300</td>\n      <td>4</td>\n      <td>NaN</td>\n      <td>0</td>\n      <td>0</td>\n      <td>NaN</td>\n      <td>1</td>\n      <td>...</td>\n      <td>NaN</td>\n      <td>9300</td>\n      <td>67</td>\n      <td>L327</td>\n      <td>Bayonne Place des Basques</td>\n      <td>0</td>\n      <td>NaN</td>\n      <td>L303100</td>\n      <td>0</td>\n      <td>0</td>\n    </tr>\n    <tr>\n      <th>4</th>\n      <td>L3334</td>\n      <td>06:10:00</td>\n      <td>06:10:00</td>\n      <td>305</td>\n      <td>5</td>\n      <td>NaN</td>\n      <td>0</td>\n      <td>0</td>\n      <td>NaN</td>\n      <td>1</td>\n      <td>...</td>\n      <td>NaN</td>\n      <td>305</td>\n      <td>67</td>\n      <td>L327</td>\n      <td>Bayonne Place des Basques</td>\n      <td>0</td>\n      <td>NaN</td>\n      <td>L303100</td>\n      <td>0</td>\n      <td>0</td>\n    </tr>\n    <tr>\n      <th>...</th>\n      <td>...</td>\n      <td>...</td>\n      <td>...</td>\n      <td>...</td>\n      <td>...</td>\n      <td>...</td>\n      <td>...</td>\n      <td>...</td>\n      <td>...</td>\n      <td>...</td>\n      <td>...</td>\n      <td>...</td>\n      <td>...</td>\n      <td>...</td>\n      <td>...</td>\n      <td>...</td>\n      <td>...</td>\n      <td>...</td>\n      <td>...</td>\n      <td>...</td>\n      <td>...</td>\n    </tr>\n    <tr>\n      <th>37146</th>\n      <td>N786</td>\n      <td>19:30:00</td>\n      <td>19:30:00</td>\n      <td>580</td>\n      <td>10</td>\n      <td>NaN</td>\n      <td>0</td>\n      <td>0</td>\n      <td>NaN</td>\n      <td>1</td>\n      <td>...</td>\n      <td>NaN</td>\n      <td>NaN</td>\n      <td>158</td>\n      <td>N45</td>\n      <td>Ahetze</td>\n      <td>1</td>\n      <td>NaN</td>\n      <td>NaN</td>\n      <td>0</td>\n      <td>0</td>\n    </tr>\n    <tr>\n      <th>37147</th>\n      <td>N786</td>\n      <td>19:32:00</td>\n      <td>19:32:00</td>\n      <td>1494</td>\n      <td>11</td>\n      <td>NaN</td>\n      <td>0</td>\n      <td>0</td>\n      <td>NaN</td>\n      <td>1</td>\n      <td>...</td>\n      <td>NaN</td>\n      <td>NaN</td>\n      <td>158</td>\n      <td>N45</td>\n      <td>Ahetze</td>\n      <td>1</td>\n      <td>NaN</td>\n      <td>NaN</td>\n      <td>0</td>\n      <td>0</td>\n    </tr>\n    <tr>\n      <th>37148</th>\n      <td>N786</td>\n      <td>19:35:00</td>\n      <td>19:35:00</td>\n      <td>1500</td>\n      <td>12</td>\n      <td>NaN</td>\n      <td>0</td>\n      <td>0</td>\n      <td>NaN</td>\n      <td>1</td>\n      <td>...</td>\n      <td>NaN</td>\n      <td>NaN</td>\n      <td>158</td>\n      <td>N45</td>\n      <td>Ahetze</td>\n      <td>1</td>\n      <td>NaN</td>\n      <td>NaN</td>\n      <td>0</td>\n      <td>0</td>\n    </tr>\n    <tr>\n      <th>37149</th>\n      <td>N786</td>\n      <td>19:36:00</td>\n      <td>19:36:00</td>\n      <td>1499</td>\n      <td>13</td>\n      <td>NaN</td>\n      <td>0</td>\n      <td>0</td>\n      <td>NaN</td>\n      <td>1</td>\n      <td>...</td>\n      <td>NaN</td>\n      <td>NaN</td>\n      <td>158</td>\n      <td>N45</td>\n      <td>Ahetze</td>\n      <td>1</td>\n      <td>NaN</td>\n      <td>NaN</td>\n      <td>0</td>\n      <td>0</td>\n    </tr>\n    <tr>\n      <th>37150</th>\n      <td>N786</td>\n      <td>19:37:00</td>\n      <td>19:37:00</td>\n      <td>194</td>\n      <td>14</td>\n      <td>NaN</td>\n      <td>1</td>\n      <td>0</td>\n      <td>NaN</td>\n      <td>1</td>\n      <td>...</td>\n      <td>Ahetze</td>\n      <td>NaN</td>\n      <td>158</td>\n      <td>N45</td>\n      <td>Ahetze</td>\n      <td>1</td>\n      <td>NaN</td>\n      <td>NaN</td>\n      <td>0</td>\n      <td>0</td>\n    </tr>\n  </tbody>\n</table>\n<p>37151 rows × 31 columns</p>\n</div>"
     },
     "execution_count": 20,
     "metadata": {},
     "output_type": "execute_result"
    }
   ],
   "source": [
    "# Merge the two dataframes by keeping the stop sequence order\n",
    "global_transport_df = pd.merge(df_stop_time, df_stop, on='stop_id', how='left', sort=False)\n",
    "global_transport_df = pd.merge(global_transport_df, df_trip, on='trip_id', how='left', sort=False)\n",
    "global_transport_df"
   ],
   "metadata": {
    "collapsed": false
   }
  },
  {
   "cell_type": "code",
   "execution_count": 21,
   "outputs": [
    {
     "name": "stdout",
     "output_type": "stream",
     "text": [
      "Network creation: \n"
     ]
    },
    {
     "name": "stderr",
     "output_type": "stream",
     "text": [
      "100%|██████████| 37151/37151 [00:08<00:00, 4263.48it/s]\n"
     ]
    }
   ],
   "source": [
    "G = pp.create_network_from_GTFS('../../../data/gtfs')"
   ],
   "metadata": {
    "collapsed": false
   }
  },
  {
   "cell_type": "code",
   "execution_count": null,
   "outputs": [],
   "source": [
    "TN = tn.TransportNetwork(G, pos_argument=['lon', 'lat'])\n",
    "print(TN)"
   ],
   "metadata": {
    "collapsed": false
   }
  },
  {
   "cell_type": "code",
   "execution_count": null,
   "outputs": [],
   "source": [
    "viz.map_network(TN)"
   ],
   "metadata": {
    "collapsed": false
   }
  },
  {
   "cell_type": "code",
   "execution_count": 28,
   "outputs": [
    {
     "data": {
      "text/plain": "      shape_id  shape_pt_lat  shape_pt_lon  shape_pt_sequence  \\\n0      L303100     43.372982     -1.775514                  1   \n1      L303100     43.372959     -1.775670                  2   \n2      L303100     43.372139     -1.775770                  3   \n3      L303100     43.372261     -1.774700                  4   \n4      L303100     43.371929     -1.774640                  5   \n...        ...           ...           ...                ...   \n65668  N51_202     43.386742     -1.658680               1155   \n65669  N51_202     43.386669     -1.658810               1156   \n65670  N51_202     43.386501     -1.659210               1157   \n65671  N51_202     43.386269     -1.659940               1158   \n65672  N51_202     43.386185     -1.660190               1159   \n\n       shape_dist_traveled  \n0                      0.0  \n1                     12.0  \n2                    104.0  \n3                    192.0  \n4                    229.0  \n...                    ...  \n65668              21102.0  \n65669              21116.0  \n65670              21153.0  \n65671              21217.0  \n65672              21240.0  \n\n[65673 rows x 5 columns]",
      "text/html": "<div>\n<style scoped>\n    .dataframe tbody tr th:only-of-type {\n        vertical-align: middle;\n    }\n\n    .dataframe tbody tr th {\n        vertical-align: top;\n    }\n\n    .dataframe thead th {\n        text-align: right;\n    }\n</style>\n<table border=\"1\" class=\"dataframe\">\n  <thead>\n    <tr style=\"text-align: right;\">\n      <th></th>\n      <th>shape_id</th>\n      <th>shape_pt_lat</th>\n      <th>shape_pt_lon</th>\n      <th>shape_pt_sequence</th>\n      <th>shape_dist_traveled</th>\n    </tr>\n  </thead>\n  <tbody>\n    <tr>\n      <th>0</th>\n      <td>L303100</td>\n      <td>43.372982</td>\n      <td>-1.775514</td>\n      <td>1</td>\n      <td>0.0</td>\n    </tr>\n    <tr>\n      <th>1</th>\n      <td>L303100</td>\n      <td>43.372959</td>\n      <td>-1.775670</td>\n      <td>2</td>\n      <td>12.0</td>\n    </tr>\n    <tr>\n      <th>2</th>\n      <td>L303100</td>\n      <td>43.372139</td>\n      <td>-1.775770</td>\n      <td>3</td>\n      <td>104.0</td>\n    </tr>\n    <tr>\n      <th>3</th>\n      <td>L303100</td>\n      <td>43.372261</td>\n      <td>-1.774700</td>\n      <td>4</td>\n      <td>192.0</td>\n    </tr>\n    <tr>\n      <th>4</th>\n      <td>L303100</td>\n      <td>43.371929</td>\n      <td>-1.774640</td>\n      <td>5</td>\n      <td>229.0</td>\n    </tr>\n    <tr>\n      <th>...</th>\n      <td>...</td>\n      <td>...</td>\n      <td>...</td>\n      <td>...</td>\n      <td>...</td>\n    </tr>\n    <tr>\n      <th>65668</th>\n      <td>N51_202</td>\n      <td>43.386742</td>\n      <td>-1.658680</td>\n      <td>1155</td>\n      <td>21102.0</td>\n    </tr>\n    <tr>\n      <th>65669</th>\n      <td>N51_202</td>\n      <td>43.386669</td>\n      <td>-1.658810</td>\n      <td>1156</td>\n      <td>21116.0</td>\n    </tr>\n    <tr>\n      <th>65670</th>\n      <td>N51_202</td>\n      <td>43.386501</td>\n      <td>-1.659210</td>\n      <td>1157</td>\n      <td>21153.0</td>\n    </tr>\n    <tr>\n      <th>65671</th>\n      <td>N51_202</td>\n      <td>43.386269</td>\n      <td>-1.659940</td>\n      <td>1158</td>\n      <td>21217.0</td>\n    </tr>\n    <tr>\n      <th>65672</th>\n      <td>N51_202</td>\n      <td>43.386185</td>\n      <td>-1.660190</td>\n      <td>1159</td>\n      <td>21240.0</td>\n    </tr>\n  </tbody>\n</table>\n<p>65673 rows × 5 columns</p>\n</div>"
     },
     "execution_count": 28,
     "metadata": {},
     "output_type": "execute_result"
    }
   ],
   "source": [
    "df_shape = pd.read_csv('../../../data/gtfs_2/shapes.txt')\n",
    "df_shape"
   ],
   "metadata": {
    "collapsed": false
   }
  },
  {
   "cell_type": "code",
   "execution_count": 25,
   "outputs": [
    {
     "data": {
      "text/plain": "         service_id trip_id              trip_headsign  direction_id  \\\nroute_id                                                               \n67             L327   L3334  Bayonne Place des Basques             0   \n147              N3     N11                   Autoport             0   \n148              N3      N2             Halte Routière             0   \n150             N32    N290                 Vieux Fort             0   \n151             N32    N289               Zaldi Xurito             0   \n152              N3      N1            Urrugne - Bourg             0   \n153              N9     N16                      EHPAD             0   \n154              N3     N13                    Béhobia             0   \n155             N33    N287             Halte Routière             0   \n156              N3     N18                  Lur Berri             0   \n157             N33    N319                  Dantxaria             0   \n158             N32    N288              Biarritz Gare             0   \n\n          block_id shape_id  wheelchair_accessible  bikes_allowed  \nroute_id                                                           \n67             NaN  L303100                      0              0  \n147            NaN     None                      0              0  \n148            NaN     None                      0              0  \n150            NaN     None                      0              0  \n151            NaN     None                      0              0  \n152            NaN     None                      0              0  \n153            NaN     None                      0              0  \n154            NaN     None                      0              0  \n155            NaN     None                      0              0  \n156            NaN     None                      0              0  \n157            NaN     None                      0              0  \n158            NaN     None                      0              0  ",
      "text/html": "<div>\n<style scoped>\n    .dataframe tbody tr th:only-of-type {\n        vertical-align: middle;\n    }\n\n    .dataframe tbody tr th {\n        vertical-align: top;\n    }\n\n    .dataframe thead th {\n        text-align: right;\n    }\n</style>\n<table border=\"1\" class=\"dataframe\">\n  <thead>\n    <tr style=\"text-align: right;\">\n      <th></th>\n      <th>service_id</th>\n      <th>trip_id</th>\n      <th>trip_headsign</th>\n      <th>direction_id</th>\n      <th>block_id</th>\n      <th>shape_id</th>\n      <th>wheelchair_accessible</th>\n      <th>bikes_allowed</th>\n    </tr>\n    <tr>\n      <th>route_id</th>\n      <th></th>\n      <th></th>\n      <th></th>\n      <th></th>\n      <th></th>\n      <th></th>\n      <th></th>\n      <th></th>\n    </tr>\n  </thead>\n  <tbody>\n    <tr>\n      <th>67</th>\n      <td>L327</td>\n      <td>L3334</td>\n      <td>Bayonne Place des Basques</td>\n      <td>0</td>\n      <td>NaN</td>\n      <td>L303100</td>\n      <td>0</td>\n      <td>0</td>\n    </tr>\n    <tr>\n      <th>147</th>\n      <td>N3</td>\n      <td>N11</td>\n      <td>Autoport</td>\n      <td>0</td>\n      <td>NaN</td>\n      <td>None</td>\n      <td>0</td>\n      <td>0</td>\n    </tr>\n    <tr>\n      <th>148</th>\n      <td>N3</td>\n      <td>N2</td>\n      <td>Halte Routière</td>\n      <td>0</td>\n      <td>NaN</td>\n      <td>None</td>\n      <td>0</td>\n      <td>0</td>\n    </tr>\n    <tr>\n      <th>150</th>\n      <td>N32</td>\n      <td>N290</td>\n      <td>Vieux Fort</td>\n      <td>0</td>\n      <td>NaN</td>\n      <td>None</td>\n      <td>0</td>\n      <td>0</td>\n    </tr>\n    <tr>\n      <th>151</th>\n      <td>N32</td>\n      <td>N289</td>\n      <td>Zaldi Xurito</td>\n      <td>0</td>\n      <td>NaN</td>\n      <td>None</td>\n      <td>0</td>\n      <td>0</td>\n    </tr>\n    <tr>\n      <th>152</th>\n      <td>N3</td>\n      <td>N1</td>\n      <td>Urrugne - Bourg</td>\n      <td>0</td>\n      <td>NaN</td>\n      <td>None</td>\n      <td>0</td>\n      <td>0</td>\n    </tr>\n    <tr>\n      <th>153</th>\n      <td>N9</td>\n      <td>N16</td>\n      <td>EHPAD</td>\n      <td>0</td>\n      <td>NaN</td>\n      <td>None</td>\n      <td>0</td>\n      <td>0</td>\n    </tr>\n    <tr>\n      <th>154</th>\n      <td>N3</td>\n      <td>N13</td>\n      <td>Béhobia</td>\n      <td>0</td>\n      <td>NaN</td>\n      <td>None</td>\n      <td>0</td>\n      <td>0</td>\n    </tr>\n    <tr>\n      <th>155</th>\n      <td>N33</td>\n      <td>N287</td>\n      <td>Halte Routière</td>\n      <td>0</td>\n      <td>NaN</td>\n      <td>None</td>\n      <td>0</td>\n      <td>0</td>\n    </tr>\n    <tr>\n      <th>156</th>\n      <td>N3</td>\n      <td>N18</td>\n      <td>Lur Berri</td>\n      <td>0</td>\n      <td>NaN</td>\n      <td>None</td>\n      <td>0</td>\n      <td>0</td>\n    </tr>\n    <tr>\n      <th>157</th>\n      <td>N33</td>\n      <td>N319</td>\n      <td>Dantxaria</td>\n      <td>0</td>\n      <td>NaN</td>\n      <td>None</td>\n      <td>0</td>\n      <td>0</td>\n    </tr>\n    <tr>\n      <th>158</th>\n      <td>N32</td>\n      <td>N288</td>\n      <td>Biarritz Gare</td>\n      <td>0</td>\n      <td>NaN</td>\n      <td>None</td>\n      <td>0</td>\n      <td>0</td>\n    </tr>\n  </tbody>\n</table>\n</div>"
     },
     "execution_count": 25,
     "metadata": {},
     "output_type": "execute_result"
    }
   ],
   "source": [
    "df_temp = df_trip.groupby('route_id').first()\n",
    "df_temp"
   ],
   "metadata": {
    "collapsed": false
   }
  },
  {
   "cell_type": "code",
   "execution_count": 29,
   "outputs": [
    {
     "name": "stderr",
     "output_type": "stream",
     "text": [
      "/tmp/ipykernel_83586/3756769074.py:1: FutureWarning: Indexing with multiple keys (implicitly converted to a tuple of keys) will be deprecated, use a list instead.\n",
      "  df_shape_line = df_shape.groupby('shape_id')['shape_pt_lat', 'shape_pt_lon'].apply(lambda x: x.values.tolist())\n"
     ]
    },
    {
     "data": {
      "text/plain": "shape_id\nL303100    [[43.37298203, -1.77551413], [43.37295914, -1....\nL303101    [[43.38620758, -1.66013181], [43.38616943, -1....\nL303105    [[43.38620758, -1.66013181], [43.38616943, -1....\nL303106    [[43.37298203, -1.77551413], [43.37295914, -1....\nL303200    [[43.49356461, -1.47889817], [43.4930687, -1.4...\nL303201    [[43.49356461, -1.47889817], [43.4930687, -1.4...\nL303202    [[43.49356461, -1.47889817], [43.4930687, -1.4...\nL303203    [[43.49356461, -1.47889817], [43.4930687, -1.4...\nL303205    [[43.49356461, -1.47889817], [43.4930687, -1.4...\nL303207    [[43.49356461, -1.47889817], [43.4930687, -1.4...\nN31_100    [[43.33934021, -1.78903949], [43.33932877, -1....\nN31_200    [[43.37437057, -1.75203657], [43.37429047, -1....\nN31_201    [[43.37637329, -1.75685751], [43.37633133, -1....\nN33_100    [[43.37305069, -1.77493739], [43.37302017, -1....\nN33_101    [[43.37305069, -1.77493739], [43.37302017, -1....\nN33_200    [[43.34295654, -1.75969696], [43.3428688, -1.7...\nN33_201    [[43.34295654, -1.75969696], [43.3428688, -1.7...\nN35_103    [[43.37305069, -1.77493739], [43.37302017, -1....\nN35_104    [[43.36975479, -1.77314329], [43.36951828, -1....\nN35_105    [[43.37306976, -1.77493858], [43.37295914, -1....\nN35_204    [[43.34715652, -1.77043498], [43.34719849, -1....\nN35_205    [[43.34715652, -1.77043498], [43.34719849, -1....\nN35_206    [[43.34591293, -1.76359677], [43.34592819, -1....\nN37_101    [[43.33355713, -1.74406886], [43.33353043, -1....\nN37_200    [[43.35980988, -1.77555168], [43.35943985, -1....\nN39_100    [[43.36819458, -1.78137875], [43.36832047, -1....\nN39_201    [[43.38618469, -1.66019034], [43.38616943, -1....\nN41_100    [[43.41346359, -1.6255362], [43.41352081, -1.6...\nN41_101    [[43.41217422, -1.61417496], [43.41213989, -1....\nN41_200    [[43.37257767, -1.65788221], [43.372509, -1.65...\nN41_201    [[43.37257767, -1.65788221], [43.372509, -1.65...\nN41_202    [[43.37257767, -1.65788221], [43.372509, -1.65...\nN41_203    [[43.37257767, -1.65788221], [43.372509, -1.65...\nN43_100    [[43.3890419, -1.62044442], [43.38909149, -1.6...\nN43_103    [[43.3890419, -1.62044442], [43.38909149, -1.6...\nN43_200    [[43.36245346, -1.69894433], [43.36243057, -1....\nN43_204    [[43.36245346, -1.69894433], [43.36243057, -1....\nN43_205    [[43.33527756, -1.66822374], [43.33522034, -1....\nN45_100    [[43.38618469, -1.66019034], [43.38616943, -1....\nN45_101    [[43.38618469, -1.66019034], [43.38616943, -1....\nN45_200    [[43.31217194, -1.58234119], [43.31222153, -1....\nN45_201    [[43.26834869, -1.57087004], [43.26873016, -1....\nN47_100    [[43.38618469, -1.66019034], [43.38616943, -1....\nN47_101    [[43.38618469, -1.66019034], [43.38616943, -1....\nN47_103    [[43.38405609, -1.68915582], [43.38402176, -1....\nN47_200    [[43.32920074, -1.54475331], [43.32954025, -1....\nN47_201    [[43.2934494, -1.50473154], [43.29346848, -1.5...\nN49_100    [[43.3651619, -1.39698005], [43.36518097, -1.3...\nN49_101    [[43.38482285, -1.30369496], [43.38476181, -1....\nN49_103    [[43.34360504, -1.52814043], [43.34389877, -1....\nN49_200    [[43.38618851, -1.66018641], [43.38616943, -1....\nN49_201    [[43.38618851, -1.66018641], [43.38616943, -1....\nN49_202    [[43.38618851, -1.66018641], [43.38616943, -1....\nN51_100    [[43.40418625, -1.57166636], [43.40422058, -1....\nN51_101    [[43.38618469, -1.66019034], [43.38616943, -1....\nN51_102    [[43.40418625, -1.57166636], [43.40422058, -1....\nN51_200    [[43.45967865, -1.54579353], [43.45964813, -1....\nN51_201    [[43.45969391, -1.5457921], [43.45962906, -1.5...\nN51_202    [[43.45969391, -1.5457921], [43.45962906, -1.5...\ndtype: object"
     },
     "execution_count": 29,
     "metadata": {},
     "output_type": "execute_result"
    }
   ],
   "source": [
    "df_shape_line = df_shape.groupby('shape_id')['shape_pt_lat', 'shape_pt_lon'].apply(lambda x: x.values.tolist())\n",
    "df_shape_line"
   ],
   "metadata": {
    "collapsed": false
   }
  },
  {
   "cell_type": "code",
   "execution_count": 34,
   "outputs": [
    {
     "ename": "TypeError",
     "evalue": "list indices must be integers or slices, not tuple",
     "output_type": "error",
     "traceback": [
      "\u001B[0;31m---------------------------------------------------------------------------\u001B[0m",
      "\u001B[0;31mTypeError\u001B[0m                                 Traceback (most recent call last)",
      "Cell \u001B[0;32mIn[34], line 8\u001B[0m\n\u001B[1;32m      3\u001B[0m fig \u001B[38;5;241m=\u001B[39m go\u001B[38;5;241m.\u001B[39mFigure()\n\u001B[1;32m      5\u001B[0m \u001B[38;5;28;01mfor\u001B[39;00m shape_id, shape \u001B[38;5;129;01min\u001B[39;00m df_shape_line\u001B[38;5;241m.\u001B[39mitems():\n\u001B[1;32m      6\u001B[0m     fig\u001B[38;5;241m.\u001B[39madd_trace(go\u001B[38;5;241m.\u001B[39mScattermapbox(\n\u001B[1;32m      7\u001B[0m         mode \u001B[38;5;241m=\u001B[39m \u001B[38;5;124m\"\u001B[39m\u001B[38;5;124mlines\u001B[39m\u001B[38;5;124m\"\u001B[39m,\n\u001B[0;32m----> 8\u001B[0m         lon \u001B[38;5;241m=\u001B[39m \u001B[43mshape\u001B[49m\u001B[43m[\u001B[49m\u001B[43m:\u001B[49m\u001B[43m,\u001B[49m\u001B[38;5;241;43m1\u001B[39;49m\u001B[43m]\u001B[49m,\n\u001B[1;32m      9\u001B[0m         lat \u001B[38;5;241m=\u001B[39m shape[:,\u001B[38;5;241m0\u001B[39m],\n\u001B[1;32m     10\u001B[0m         line \u001B[38;5;241m=\u001B[39m \u001B[38;5;28mdict\u001B[39m(width \u001B[38;5;241m=\u001B[39m \u001B[38;5;241m2\u001B[39m, color \u001B[38;5;241m=\u001B[39m \u001B[38;5;124m'\u001B[39m\u001B[38;5;124mblue\u001B[39m\u001B[38;5;124m'\u001B[39m),\n\u001B[1;32m     11\u001B[0m         name \u001B[38;5;241m=\u001B[39m shape_id\n\u001B[1;32m     12\u001B[0m     ))\n\u001B[1;32m     15\u001B[0m fig\u001B[38;5;241m.\u001B[39mupdate_layout(\n\u001B[1;32m     16\u001B[0m     margin \u001B[38;5;241m=\u001B[39m{\u001B[38;5;124m'\u001B[39m\u001B[38;5;124ml\u001B[39m\u001B[38;5;124m'\u001B[39m:\u001B[38;5;241m0\u001B[39m,\u001B[38;5;124m'\u001B[39m\u001B[38;5;124mt\u001B[39m\u001B[38;5;124m'\u001B[39m:\u001B[38;5;241m0\u001B[39m,\u001B[38;5;124m'\u001B[39m\u001B[38;5;124mb\u001B[39m\u001B[38;5;124m'\u001B[39m:\u001B[38;5;241m0\u001B[39m,\u001B[38;5;124m'\u001B[39m\u001B[38;5;124mr\u001B[39m\u001B[38;5;124m'\u001B[39m:\u001B[38;5;241m0\u001B[39m},\n\u001B[1;32m     17\u001B[0m     mapbox \u001B[38;5;241m=\u001B[39m {\n\u001B[1;32m     18\u001B[0m         \u001B[38;5;124m'\u001B[39m\u001B[38;5;124mcenter\u001B[39m\u001B[38;5;124m'\u001B[39m: {\u001B[38;5;124m'\u001B[39m\u001B[38;5;124mlon\u001B[39m\u001B[38;5;124m'\u001B[39m: \u001B[38;5;241m43.38\u001B[39m, \u001B[38;5;124m'\u001B[39m\u001B[38;5;124mlat\u001B[39m\u001B[38;5;124m'\u001B[39m: \u001B[38;5;241m1.66\u001B[39m},\n\u001B[1;32m     19\u001B[0m         \u001B[38;5;124m'\u001B[39m\u001B[38;5;124mstyle\u001B[39m\u001B[38;5;124m'\u001B[39m: \u001B[38;5;124m\"\u001B[39m\u001B[38;5;124mstamen-terrain\u001B[39m\u001B[38;5;124m\"\u001B[39m,\n\u001B[1;32m     20\u001B[0m         \u001B[38;5;124m'\u001B[39m\u001B[38;5;124mzoom\u001B[39m\u001B[38;5;124m'\u001B[39m: \u001B[38;5;241m10\u001B[39m})\n\u001B[1;32m     22\u001B[0m fig\u001B[38;5;241m.\u001B[39mshow()\n",
      "\u001B[0;31mTypeError\u001B[0m: list indices must be integers or slices, not tuple"
     ]
    }
   ],
   "source": [
    "import plotly.graph_objects as go\n",
    "\n",
    "fig = go.Figure()\n",
    "\n",
    "for shape_id, shape in df_shape_line.items():\n",
    "    fig.add_trace(go.Scattermapbox(\n",
    "        mode = \"lines\",\n",
    "        lon = shape[:,1],\n",
    "        lat = shape[:,0],\n",
    "        line = dict(width = 2, color = 'blue'),\n",
    "        name = shape_id\n",
    "    ))\n",
    "\n",
    "\n",
    "fig.update_layout(\n",
    "    margin ={'l':0,'t':0,'b':0,'r':0},\n",
    "    mapbox = {\n",
    "        'center': {'lon': 43.38, 'lat': 1.66},\n",
    "        'style': \"stamen-terrain\",\n",
    "        'zoom': 10})\n",
    "\n",
    "fig.show()"
   ],
   "metadata": {
    "collapsed": false
   }
  },
  {
   "cell_type": "code",
   "execution_count": null,
   "outputs": [],
   "source": [],
   "metadata": {
    "collapsed": false
   }
  }
 ],
 "metadata": {
  "kernelspec": {
   "display_name": "Python 3",
   "language": "python",
   "name": "python3"
  },
  "language_info": {
   "codemirror_mode": {
    "name": "ipython",
    "version": 2
   },
   "file_extension": ".py",
   "mimetype": "text/x-python",
   "name": "python",
   "nbconvert_exporter": "python",
   "pygments_lexer": "ipython2",
   "version": "2.7.6"
  }
 },
 "nbformat": 4,
 "nbformat_minor": 0
}
