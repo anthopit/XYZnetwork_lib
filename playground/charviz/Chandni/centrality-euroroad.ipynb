{
 "cells": [
  {
   "cell_type": "code",
   "execution_count": null,
   "metadata": {
    "collapsed": true,
    "pycharm": {
     "is_executing": true
    }
   },
   "outputs": [],
   "source": [
    "import networkx as nx\n",
    "import matplotlib.pyplot as plt\n",
    "\n",
    "def analyse_centrality(G):\n",
    "    # Calculate and print the rank, degree centrality, betweenness centrality, and closeness centrality for each node\n",
    "    degree_centralities = nx.degree_centrality(G)\n",
    "    betweenness_centralities = nx.betweenness_centrality(G)\n",
    "    closeness_centralities = nx.closeness_centrality(G)\n",
    "\n",
    "    degree_ranks = sorted(degree_centralities.items(), key=lambda x: x[1], reverse=True)\n",
    "    betweenness_ranks = sorted(betweenness_centralities.items(), key=lambda x: x[1], reverse=True)\n",
    "    closeness_ranks = sorted(closeness_centralities.items(), key=lambda x: x[1], reverse=True)\n",
    "\n",
    "    for rank, (node, _) in enumerate(degree_ranks):\n",
    "        degree_centrality = degree_centralities[node]\n",
    "        betweenness_centrality = betweenness_centralities[node]\n",
    "        closeness_centrality = closeness_centralities[node]\n",
    "        print(f\"Node {node}:\")\n",
    "        print(f\"\\tDegree Centrality Rank: {rank+1}/{len(degree_ranks)}, Value: {degree_centrality:.4f}\")\n",
    "        print(f\"\\tBetweenness Centrality Rank: {betweenness_ranks.index((node, betweenness_centrality))+1}/{len(betweenness_ranks)}, Value: {betweenness_centrality:.4f}\")\n",
    "        print(f\"\\tCloseness Centrality Rank: {closeness_ranks.index((node, closeness_centrality))+1}/{len(closeness_ranks)}, Value: {closeness_centrality:.4f}\")\n",
    "\n",
    "\n",
    "\n",
    "# Read in the graph data\n",
    "with open(\"../../../data/road-euroroad.edges\", \"r\") as f:\n",
    "    lines = f.readlines()\n",
    "\n",
    "# Create a graph\n",
    "G = nx.Graph()\n",
    "\n",
    "# Add nodes and edges to the graph\n",
    "for line in lines:\n",
    "    if not line.startswith(\"%\"):\n",
    "        node1, node2 = map(int, line.split())\n",
    "        G.add_edge(node1, node2)\n",
    "\n",
    "\n",
    "# Define the centralities functions\n",
    "centralities = [nx.degree_centrality, nx.betweenness_centrality, nx.closeness_centrality]\n",
    "\n",
    "# Calculate and print the ranks of centrality\n",
    "analyse_centrality(G)\n"
   ]
  },
  {
   "cell_type": "code",
   "execution_count": null,
   "outputs": [],
   "source": [
    "# Ask user if they want to plot the graph\n",
    "user_input = input(\"Do you want to plot the graph? (yes/no): \")\n",
    "# Plot the centralities if the user wants to\n",
    "if user_input == \"yes\":\n",
    "    titles = ['Degree Centrality', 'Betweenness Centrality', 'Closeness Centrality']\n",
    "\n",
    "    # Plot the centralities\n",
    "    plot_centralities_histogram(G, centralities, titles)"
   ],
   "metadata": {
    "collapsed": false
   }
  },
  {
   "cell_type": "markdown",
   "source": [],
   "metadata": {
    "collapsed": false
   }
  }
 ],
 "metadata": {
  "kernelspec": {
   "display_name": "Python 3",
   "language": "python",
   "name": "python3"
  },
  "language_info": {
   "codemirror_mode": {
    "name": "ipython",
    "version": 2
   },
   "file_extension": ".py",
   "mimetype": "text/x-python",
   "name": "python",
   "nbconvert_exporter": "python",
   "pygments_lexer": "ipython2",
   "version": "2.7.6"
  }
 },
 "nbformat": 4,
 "nbformat_minor": 0
}
