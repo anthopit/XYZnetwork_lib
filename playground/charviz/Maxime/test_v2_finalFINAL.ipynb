{
 "cells": [
  {
   "cell_type": "code",
   "execution_count": 90,
   "outputs": [],
   "source": [
    "import networkx as nx\n",
    "import random\n",
    "import matplotlib\n",
    "import matplotlib.pyplot as plt\n",
    "import numpy\n",
    "import math"
   ],
   "metadata": {
    "collapsed": false
   }
  },
  {
   "cell_type": "code",
   "execution_count": 91,
   "outputs": [],
   "source": [
    "def average_clustering(G, trials=1000):\n",
    "    \"\"\"Estimates the average clustering coefficient of G.\n",
    "\n",
    "    The local clustering of each node in `G` is the\n",
    "    fraction of triangles that actually exist over\n",
    "    all possible triangles in its neighborhood.\n",
    "    The average clustering coefficient of a graph\n",
    "    `G` is the mean of local clustering.\n",
    "\n",
    "    This function finds an approximate average\n",
    "    clustering coefficient for G by repeating `n`\n",
    "    times (defined in `trials`) the following\n",
    "    experiment: choose a node at random, choose\n",
    "    two of its neighbors at random, and check if\n",
    "    they are connected. The approximate coefficient\n",
    "    is the fraction of triangles found over the\n",
    "    number of trials [1]_.\n",
    "\n",
    "    Parameters\n",
    "    ----------\n",
    "    G : NetworkX graph\n",
    "\n",
    "    trials : integer\n",
    "        Number of trials to perform (default 1000).\n",
    "\n",
    "    Returns\n",
    "    -------\n",
    "    c : float\n",
    "        Approximated average clustering coefficient.\n",
    "\n",
    "\n",
    "\n",
    "    \"\"\"\n",
    "    n = len(G)\n",
    "    triangles = 0\n",
    "    nodes = G.nodes()\n",
    "    for i in [int(random.random() * n) for i in range(trials)]:\n",
    "        nbrs = list(G[nodes[i]])\n",
    "        if len(nbrs) < 2:\n",
    "            continue\n",
    "        u, v = random.sample(nbrs, 2)\n",
    "        if u in G[v]:\n",
    "            triangles += 1\n",
    "    return triangles / float(trials)"
   ],
   "metadata": {
    "collapsed": false
   }
  },
  {
   "cell_type": "code",
   "execution_count": 92,
   "outputs": [],
   "source": [
    "# Read data from file\n",
    "with open(\"../data/road-euroroad.edges\", \"r\") as f:\n",
    "    lines = f.readlines()\n",
    "\n",
    "# Create a graph\n",
    "G = nx.Graph()\n",
    "\n",
    "# Add nodes and edges to the graph\n",
    "for line in lines:\n",
    "    if not line.startswith(\"%\"):\n",
    "        node1, node2 = map(int, line.split())\n",
    "        G.add_edge(node1, node2)\n",
    "\n",
    "G.number_of_nodes()\n",
    "G.number_of_edges()\n",
    "\n",
    "c = nx.average_clustering(G)"
   ],
   "metadata": {
    "collapsed": false
   }
  },
  {
   "cell_type": "code",
   "execution_count": 93,
   "outputs": [
    {
     "data": {
      "text/plain": "[1102, 40, 5, 22, 0, 0, 0, 0, 0, 5]"
     },
     "execution_count": 93,
     "metadata": {},
     "output_type": "execute_result"
    }
   ],
   "source": [
    "cc = nx.clustering(G)\n",
    "#for key, value in cc.items():\n",
    "#    if value != 0:\n",
    "#        print(key, \": \", value)\n",
    "\n",
    "values = [0 for i in range(10)]\n",
    "\n",
    "for key, value in cc.items():\n",
    "    temp = value\n",
    "    temp *= 10\n",
    "    if temp == 10:\n",
    "        values[9] += 1\n",
    "        continue\n",
    "    values[math.trunc(temp)] += 1\n",
    "\n",
    "values"
   ],
   "metadata": {
    "collapsed": false
   }
  },
  {
   "cell_type": "code",
   "execution_count": 94,
   "outputs": [
    {
     "data": {
      "text/plain": "<Figure size 640x480 with 1 Axes>",
      "image/png": "[encoded data removed]"
     },
     "metadata": {},
     "output_type": "display_data"
    }
   ],
   "source": [
    "x = []\n",
    "for i in range(10):\n",
    "    temp = i / 10\n",
    "    labelX = str(temp) + \"-\" + str(round(temp+0.1, 2))\n",
    "    x.append(labelX)\n",
    "plt.bar(x, values, label=values)\n",
    "for i in range(len(values)):\n",
    "    plt.text(i, values[i] + 10, values[i], ha=\"center\")\n",
    "plt.xticks(rotation=45)\n",
    "plt.show()"
   ],
   "metadata": {
    "collapsed": false
   }
  },
  {
   "cell_type": "code",
   "execution_count": 94,
   "outputs": [],
   "source": [],
   "metadata": {
    "collapsed": false
   }
  }
 ],
 "metadata": {
  "kernelspec": {
   "display_name": "Python 3",
   "language": "python",
   "name": "python3"
  },
  "language_info": {
   "codemirror_mode": {
    "name": "ipython",
    "version": 2
   },
   "file_extension": ".py",
   "mimetype": "text/x-python",
   "name": "python",
   "nbconvert_exporter": "python",
   "pygments_lexer": "ipython2",
   "version": "2.7.6"
  }
 },
 "nbformat": 4,
 "nbformat_minor": 0
}
